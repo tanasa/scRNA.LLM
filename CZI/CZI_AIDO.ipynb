{
  "cells": [
    {
      "cell_type": "markdown",
      "id": "443d1237",
      "metadata": {
        "id": "443d1237"
      },
      "source": [
        "# Quick Start: AIDO.Cell\n",
        "\n",
        "**Estimated time to complete**: under 10 minutes (A100 GPU system)\n",
        "\n",
        "**Google Colab Note:** This notebook requires A100 GPU only included with Google Colab Pro or Enterprise paid services.\n",
        "Alternatively, a \"pay as you go\" option is available to purchase premium GPUs. See [Colab Service Plans](https://colab.research.google.com/signup?utm_source=notebook_settings&utm_medium=link&utm_campaign=premium_gpu_selector) for details."
      ]
    },
    {
      "cell_type": "markdown",
      "source": [
        "## Learning Goals\n",
        "\n",
        "*   Install ModelGenerator, a plug-and-play framework for using AIDO.Cell models\n",
        "*   Download a single-cell RNA dataset from the Gene Expression Omnibus (GEO) repository\n",
        "*  Preprocess data\n",
        "*  Generate embeddings using the pre-trained AIDO.Cell-3M model\n",
        "\n",
        "## Pre-requisites\n",
        "\n",
        "*   A100 GPU or equivalent\n",
        "*   Python 3.10 or Python 3.11\n",
        "\n",
        "## Introduction\n",
        "\n",
        "### Model\n",
        "The AIDO.Cell models are a family of scalable transformer-based models that were trained on 50 million cells spanning a diverse set of human tissues and organs. The models aim to learn accurate and general representations of the human cell's entire transcriptional context and can be used for various tasks including zero-shot clustering, cell type classification, and perturbation modeling. This quickstart implements AIDO.Cell-3M, the smallest variant of the AIDO.Cell models, to embedd single-cell RNA data.\n",
        "\n",
        "AIDO.Cell was designed for use with the ModelGenerator CLI. It is strongly recommended to use ModelGenerator for running AIDO.Cell models. For more information, check out:\n",
        "\n",
        "*   [Using ModelGenerator to finetune AIDO.Cell](https://github.com/genbio-ai/ModelGenerator/blob/6ad2e776749e506525d5a4c3d8ef0dfdb87d2664/experiments/AIDO.Cell/tutorial_cell_classification.ipynb)\n",
        "*  [ ModelGenerator Docs](https://genbio-ai.github.io/ModelGenerator/)\n",
        "\n",
        "\n",
        "### Example Dataset\n",
        "The GEO dataset used in this quickstart includes single-cell RNA data obtained from colon biopsies collected from patients with ulcerative colatis (UC) and Chron's disease (CD). The dataset also includes samples from a healthy control (HC)."
      ],
      "metadata": {
        "id": "6CoIyVWRtACW"
      },
      "id": "6CoIyVWRtACW"
    },
    {
      "cell_type": "markdown",
      "source": [
        "## Setup\n",
        "\n",
        "The steps below will install the required ModelGenerator package and associated dependencies and download the example dataset and model checkpoint. It may take a few minutes to download all the files.\n",
        "\n",
        "\n",
        "### Setup Google Colab\n",
        "\n",
        "To run this quickstart using Google Colab, you will need to choose the 'A100' GPU runtime from the \"Connect\" dropdown menu in the upper-right corner of this notebook. Note that this runtime configuration is not available in the free Colab version. To access premium GPUs, you will need to purchase additional compute units. The current quickstart was tested in Colab Enterprise using the following runtime configuration:\n",
        "\n",
        "*   Machine type: a2-highgpu-1g\n",
        "*   GPU type: NVIDIA_TESLA_A100 x 1\n",
        "*   Data disk type:100 GB Standard Disk (pd-standard)\n",
        "\n",
        "\n",
        "### Setup Local Environment\n",
        "\n",
        "ModelGenerator is an open-source and convenient plug-and-play software stack to run AIDO.Cell moldels. It automatically interfaces with Hugging Face and allows easy one-command embedding and adaptation of the models for a wide variety of fine-tuning tasks. To run ModelGenerator, the GPU must be ampere-generation or later to support flash attention (e.g., A100, H100)."
      ],
      "metadata": {
        "id": "oOHIxVmktSw0"
      },
      "id": "oOHIxVmktSw0"
    },
    {
      "cell_type": "markdown",
      "id": "66e4fc7f",
      "metadata": {
        "id": "66e4fc7f"
      },
      "source": [
        "### Step 1: Install ModelGenerator and required dependencies"
      ]
    },
    {
      "cell_type": "code",
      "execution_count": null,
      "id": "0d943dee",
      "metadata": {
        "id": "0d943dee"
      },
      "outputs": [],
      "source": [
        "!git clone https://github.com/genbio-ai/ModelGenerator.git\n",
        "%cd ModelGenerator\n",
        "!pip install -e \".[flash_attn]\"\n",
        "!pip install -r requirements.txt\n",
        "%cd experiments/AIDO.Cell"
      ]
    },
    {
      "cell_type": "code",
      "execution_count": null,
      "id": "5b91da65",
      "metadata": {
        "id": "5b91da65"
      },
      "outputs": [],
      "source": [
        "# Restart the session after installing\n",
        "\n",
        "# Then navigate back to the AIDO.Cell directory\n",
        "%cd ModelGenerator/experiments/AIDO.Cell"
      ]
    },
    {
      "cell_type": "markdown",
      "id": "dd475e66",
      "metadata": {
        "id": "dd475e66"
      },
      "source": [
        "### Step 2: Download example dataset from GEO and load into anndata"
      ]
    },
    {
      "cell_type": "code",
      "execution_count": null,
      "id": "455ca834",
      "metadata": {
        "id": "455ca834"
      },
      "outputs": [],
      "source": [
        "%%bash\n",
        "mkdir -p data\n",
        "cd data\n",
        "wget -nv -O GSE214695.tar 'http://www.ncbi.nlm.nih.gov/geo/download/?acc=GSE214695&format=file'\n",
        "tar -xvf GSE214695.tar\n",
        "cd .."
      ]
    },
    {
      "cell_type": "code",
      "execution_count": null,
      "id": "c50006a4",
      "metadata": {
        "id": "c50006a4"
      },
      "outputs": [],
      "source": [
        "import anndata as ad\n",
        "import scanpy as sc\n",
        "\n",
        "adata = sc.read_10x_mtx('data', prefix='GSM6614348_HC-1_')\n",
        "sc.pp.filter_cells(adata, min_genes=500)\n",
        "sc.pp.filter_genes(adata, min_cells=3)\n",
        "# No more normalization needed, AIDO.Cell uses raw counts"
      ]
    },
    {
      "cell_type": "markdown",
      "id": "230956e7",
      "metadata": {
        "id": "230956e7"
      },
      "source": [
        "### Step 3: Preprocess the anndata for AIDO.Cell"
      ]
    },
    {
      "cell_type": "code",
      "execution_count": null,
      "id": "3f354631",
      "metadata": {
        "id": "3f354631",
        "outputId": "27e75684-40a7-43cb-fa7f-e7e9acebe8b1"
      },
      "outputs": [
        {
          "name": "stdout",
          "output_type": "stream",
          "text": [
            "###########  Aligning data to AIDO.Cell  ###########\n",
            "AIDO.Cell was pretrained on a fixed set of 19264 genes.\n",
            "Aligning your data to the AIDO.Cell gene set...\n",
            "2428 in your data that cannot be used by AIDO.Cell. Removing these.\n",
            "['A1BG-AS1' 'A2M-AS1' 'AAED1' ... 'ZNRD1' 'ZNRF3-AS1' 'ZSCAN16-AS1']\n",
            "5837 genes in the AIDO.Cell pretraining set missing in your data.\n",
            "AIDO.Cell is trained with zero-masking. Setting these to zero for AIDO.Cell to ignore.\n",
            "['A2ML1' 'A3GALT2' 'A4GNT' ... 'ZSWIM5' 'ZYG11A' 'ZZZ3']\n",
            "13427 non-zero genes remaining.\n",
            "Reordering genes to match AIDO.Cell gene ordering\n",
            "Gathering attention mask for nonzero genes\n",
            "####################  Finished  ####################\n"
          ]
        }
      ],
      "source": [
        "import cell_utils\n",
        "aligned_adata, attention_mask = cell_utils.align_adata(adata)"
      ]
    },
    {
      "cell_type": "markdown",
      "id": "2e1e7db7",
      "metadata": {
        "id": "2e1e7db7"
      },
      "source": [
        "### Step 4: Generate AIDO.Cell embeddings"
      ]
    },
    {
      "cell_type": "code",
      "execution_count": null,
      "id": "69acfb72",
      "metadata": {
        "id": "69acfb72",
        "outputId": "5c9d50ff-26ba-4534-b81e-a5708cebbef7"
      },
      "outputs": [
        {
          "name": "stderr",
          "output_type": "stream",
          "text": [
            "/home/caleb_ellington_genbio_ai/miniforge3/envs/mgen/lib/python3.10/site-packages/huggingface_hub/file_download.py:795: FutureWarning: `resume_download` is deprecated and will be removed in version 1.0.0. Downloads always resume when possible. If you want to force a new download, use `force_download=True`.\n",
            "  warnings.warn(\n",
            "/home/caleb_ellington_genbio_ai/ModelGenerator/modelgenerator/tasks/tasks.py:1667: UserWarning: To copy construct from a tensor, it is recommended to use sourceTensor.clone().detach() or sourceTensor.clone().detach().requires_grad_(True), rather than torch.tensor(sourceTensor).\n",
            "  input_ids = torch.tensor(input_ids, dtype=torch.long).to(self.device)\n",
            "/home/caleb_ellington_genbio_ai/ModelGenerator/modelgenerator/backbones/backbones.py:672: UserWarning: To copy construct from a tensor, it is recommended to use sourceTensor.clone().detach() or sourceTensor.clone().detach().requires_grad_(True), rather than torch.tensor(sourceTensor).\n",
            "  X = torch.tensor(\n"
          ]
        },
        {
          "name": "stdout",
          "output_type": "stream",
          "text": [
            "FULL EMBEDDING\n",
            "(batch_size, genes, embedding_dim)\n",
            "torch.Size([2, 19264, 128])\n",
            "tensor([[[-2.0469,  0.4199, -1.6719,  ..., -0.9258,  0.3730,  1.5938],\n",
            "         [-0.6445, -1.9062, -2.7969,  ..., -1.5391,  0.9414, -0.5273],\n",
            "         [-1.0703, -1.5234, -0.9648,  ..., -0.6445,  0.6406,  0.8867],\n",
            "         ...,\n",
            "         [ 0.5586, -1.8672, -2.6562,  ..., -0.3438, -0.2100,  0.9297],\n",
            "         [ 0.0037,  0.0347,  0.2969,  ..., -0.4258,  1.3438, -0.4121],\n",
            "         [-1.1172, -1.5156, -1.0781,  ..., -1.0781,  1.4531, -0.9727]],\n",
            "\n",
            "        [[-2.3125,  1.0391, -2.3125,  ..., -0.2471,  0.5312,  0.1572],\n",
            "         [-0.8008, -2.0000, -2.7344,  ..., -1.4688,  0.6328, -0.7422],\n",
            "         [-0.0918, -2.2188, -0.0815,  ..., -1.4453,  0.0179,  0.8438],\n",
            "         ...,\n",
            "         [ 0.0698, -1.3359, -2.4375,  ..., -0.0195,  0.0396,  1.0547],\n",
            "         [ 0.1777,  0.0664,  0.3223,  ..., -0.1631,  1.0938, -0.3145],\n",
            "         [-0.6602, -1.0000, -1.5469,  ..., -1.0312,  0.9883, -0.7266]]],\n",
            "       device='cuda:0', dtype=torch.bfloat16, grad_fn=<SliceBackward0>)\n",
            "-------------------------------------\n",
            "NON-ZERO GENES EMBEDDING\n",
            "(batch_size, genes, embedding_dim)\n",
            "torch.Size([2, 13427, 128])\n",
            "tensor([[[-2.0469,  0.4199, -1.6719,  ..., -0.9258,  0.3730,  1.5938],\n",
            "         [-0.6445, -1.9062, -2.7969,  ..., -1.5391,  0.9414, -0.5273],\n",
            "         [-1.0703, -1.5234, -0.9648,  ..., -0.6445,  0.6406,  0.8867],\n",
            "         ...,\n",
            "         [ 0.0723, -0.1523, -1.4844,  ..., -1.0156,  1.3828,  0.8125],\n",
            "         [ 0.5586, -1.8672, -2.6562,  ..., -0.3438, -0.2100,  0.9297],\n",
            "         [ 0.0037,  0.0347,  0.2969,  ..., -0.4258,  1.3438, -0.4121]],\n",
            "\n",
            "        [[-2.3125,  1.0391, -2.3125,  ..., -0.2471,  0.5312,  0.1572],\n",
            "         [-0.8008, -2.0000, -2.7344,  ..., -1.4688,  0.6328, -0.7422],\n",
            "         [-0.0918, -2.2188, -0.0815,  ..., -1.4453,  0.0179,  0.8438],\n",
            "         ...,\n",
            "         [-0.0762, -0.2969, -1.0469,  ..., -0.9023,  1.6562,  0.5820],\n",
            "         [ 0.0698, -1.3359, -2.4375,  ..., -0.0195,  0.0396,  1.0547],\n",
            "         [ 0.1777,  0.0664,  0.3223,  ..., -0.1631,  1.0938, -0.3145]]],\n",
            "       device='cuda:0', dtype=torch.bfloat16, grad_fn=<IndexBackward0>)\n"
          ]
        }
      ],
      "source": [
        "# Embed\n",
        "import anndata as ad\n",
        "import numpy as np\n",
        "import torch\n",
        "import sys\n",
        "from modelgenerator.tasks import Embed\n",
        "\n",
        "# The following is equivalent to the ModelGenerator CLI command:\n",
        "# mgen predict --model Embed --model.backbone aido_cell_3m \\\n",
        "#   --data CellClassificationDataModule --data.test_split_files <your_anndata>.h5ad\n",
        "\n",
        "# If not using mgen, this should be configured manually.\n",
        "device = 'cuda'\n",
        "batch_size = 2\n",
        "\n",
        "model = Embed.from_config({\n",
        "        \"model.backbone\": \"aido_cell_3m\",\n",
        "        \"model.batch_size\": batch_size\n",
        "    }).eval()\n",
        "model = model.to(device).to(torch.bfloat16)\n",
        "\n",
        "# All data must be in bfloat16\n",
        "batch_np = aligned_adata[:batch_size].X.toarray()\n",
        "batch_tensor = torch.from_numpy(batch_np).to(torch.bfloat16).to(device)\n",
        "# Call transform and embed.\n",
        "batch_transformed = model.transform({'sequences': batch_tensor})\n",
        "embs = model(batch_transformed)\n",
        "\n",
        "# Full Embeddings\n",
        "print('FULL EMBEDDING')\n",
        "print('(batch_size, genes, embedding_dim)')\n",
        "print(embs.shape)\n",
        "print(embs)\n",
        "print('-------------------------------------')\n",
        "\n",
        "# Non-Zero Genes Embeddings\n",
        "print('NON-ZERO GENES EMBEDDING')\n",
        "embs = embs[:, attention_mask.astype(bool), :]\n",
        "print('(batch_size, genes, embedding_dim)')\n",
        "print(embs.shape)\n",
        "print(embs)"
      ]
    },
    {
      "cell_type": "code",
      "execution_count": null,
      "id": "3b64dafe",
      "metadata": {
        "id": "3b64dafe"
      },
      "outputs": [],
      "source": []
    },
    {
      "cell_type": "markdown",
      "source": [
        "# Contacts and Acknowledgements\n",
        "\n",
        "For issues with this tutorial please contact virtualcellmodels@chanzuckerberg.com or Caleb Ellington at caleb.ellington@genbio.ai.\n",
        "\n",
        "Thanks to Caleb Ellington, all the AIDO.Cell model developers, and the [GenBio AI](https://genbio.ai/) team for creating and supporting this resource.\n"
      ],
      "metadata": {
        "id": "hGRaEspxDwmr"
      },
      "id": "hGRaEspxDwmr"
    },
    {
      "cell_type": "markdown",
      "source": [
        "# Responsible Use\n",
        "\n",
        "We are committed to advancing the responsible development and use of artificial intelligence. Please follow our [Acceptable Use Policy](https://virtualcellmodels.cziscience.com/acceptable-use-policy) when engaging with our services."
      ],
      "metadata": {
        "id": "cE_ss9QMD51g"
      },
      "id": "cE_ss9QMD51g"
    }
  ],
  "metadata": {
    "kernelspec": {
      "display_name": "mgen",
      "language": "python",
      "name": "python3"
    },
    "language_info": {
      "codemirror_mode": {
        "name": "ipython",
        "version": 3
      },
      "file_extension": ".py",
      "mimetype": "text/x-python",
      "name": "python",
      "nbconvert_exporter": "python",
      "pygments_lexer": "ipython3",
      "version": "3.10.16"
    },
    "colab": {
      "provenance": []
    }
  },
  "nbformat": 4,
  "nbformat_minor": 5
}