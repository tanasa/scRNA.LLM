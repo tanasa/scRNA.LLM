{
  "cells": [
    {
      "cell_type": "markdown",
      "metadata": {
        "id": "_8B3Qjzdw23t"
      },
      "source": [
        "# scGenePT Perturbation Prediction Tutorial\n",
        "\n",
        "<a id = 'introduction'></a>\n",
        "Last Updated: [12/04/2024] This notebook offers examples of how to use trained scGenePT models in inference mode for perturbation prediction. It uses models fine-tuned on the **Norman [1] dataset** and offers examples of predicting post-perturbation expression responses for **single gene perturbations**: POU3F2, CDKN1B and **gene combinations**: SAMD1+ZBTB1. Models have not been evaluated on multiple gene combination perturbation responses, so behavior is unknown.\n",
        "\n",
        "**Model** : scGenePT is a collection of single-cell models for perturbation prediction. It leverages the [scGPT](https://github.com/bowang-lab/scGPT) [2] foundation model for scRNAseq data by injecting language embeddings at the gene level into the model architecture. The language gene embeddings are obtained by embedding gene level information from different knowledge sources using LLMs. The knowledge sources used include NCBI gene descriptions, UniProt protein Summaries for protein coding genes - as inspired by the [genePT](https://github.com/yiqunchen/GenePT) [3] approach - and GO (Gene Ontology) Gene Molecular Annotations, across three different axes: Molecular Function, Biological Process and Cellular Component. The model variations available are:\n",
        "- **scGenePT_NCBI** = scGPT + NCBI Gene Card Summaries\n",
        "- **scGenePT_NCBI+UniProt** = scGPT + NCBI Gene Card Summaries + UniProt Protein Summaries\n",
        "- **scGenePT_GO−F** = scGPT + GO Molecular Functions Annotations\n",
        "- **scGenePT_GO−C** = scGPT + GO Cellular Components Annotations\n",
        "- **scGenePT_GO−P** = scGPT + GO Biological Processes Annotations\n",
        "- **scGenePT+GO−all** = scGPT + GO_F + GO_C + GO_P\n",
        "\n",
        "In this tutorial, we will focus on comparing **scGenePT_GO−C** and **scGenePT_NCBI+UniProt** models.\n",
        "\n",
        "**Dataset**: The Norman Dataset [1] is a CRISPR perturb-seq dataset containing single and two-gene perturbations. We use a processed version of the dataset that contains 105 single and 131 two-gene combinations perturbations coming from 91k observations. Cells in the dataset are log-normalized and filtered to the top 5000 highly variable genes. Models in ths notebook are trained on the train split of the dataset. We offer examples of:\n",
        "- performing inference on the test split of the Norman dataset\n",
        "- performing inference on a random control sample and on a new anndata file\n",
        "\n",
        "**Hardware Requirements**: We strongly recommend running this notebook on a GPU instance. It should run on a CPU as well, but it will be much slower\n",
        "\n",
        "**The notebook is structured and offers the following examples**:\n",
        "1. [Perturbation prediction](#perturbation_prediction)\n",
        "    - [Loading the Norman dataset](#load_dataset)\n",
        "    - [Loading trained scGenePT model](#load_trained_scgenept_model)\n",
        "2. [Plotting the top 20 Differentially Expressed Genes post-perturbation](#plot_top_20_de)\n",
        "    - [Predicting perturbation response for perturbing the POU3F2 gene using a scGenePT_GO−C model](#example_POU3F2+ctrl)\n",
        "    - [Predicting perturbation response for perturbing the CDKN1B gene using a scGenePT_GO−C model](#example_CDKN1B+ctrl)\n",
        "    - [Predicting perturbation response for perturbing the SAMD1+ZBTB1 gene combination using a scGenePT_NCBI+UniProt model](#example_SAMD1+ZBTB1)\n",
        "3. [Perturbation prediction on NumPy arrays holding control samples](#prediction_on_rnd_ctrl)\n",
        "4. [Perturbation prediction on AnnData files](#prediction_on_new_anndata_file)"
      ]
    },
    {
      "cell_type": "markdown",
      "metadata": {
        "id": "dEFliUdPxthd"
      },
      "source": [
        "## Setup\n",
        "\n",
        "We start by installing the required packages needed to run the notebook, as well as adding the needed data. Note that this section might take a few minutes to run."
      ]
    },
    {
      "cell_type": "code",
      "execution_count": null,
      "metadata": {
        "id": "jc4P0ynoUNy7"
      },
      "outputs": [],
      "source": [
        "%%capture [--no-stderr]\n",
        "!pip -q install torch==2.1.2 torch_geometric==2.5.3 torchdata==0.7.1 torchmetrics==1.4.0.post0 packaging==24.1 numpy==1.26.4 scgpt awscli"
      ]
    },
    {
      "cell_type": "code",
      "execution_count": null,
      "metadata": {
        "colab": {
          "base_uri": "https://localhost:8080/"
        },
        "id": "iYUHNcB8YmKE",
        "outputId": "03f0ed3d-4705-4e5d-a6cb-2e79517f875f"
      },
      "outputs": [
        {
          "output_type": "stream",
          "name": "stdout",
          "text": [
            "Cloning into 'scGenePT'...\n",
            "remote: Enumerating objects: 375, done.\u001b[K\n",
            "remote: Counting objects: 100% (86/86), done.\u001b[K\n",
            "remote: Compressing objects: 100% (66/66), done.\u001b[K\n",
            "remote: Total 375 (delta 48), reused 37 (delta 19), pack-reused 289 (from 1)\u001b[K\n",
            "Receiving objects: 100% (375/375), 11.06 MiB | 15.04 MiB/s, done.\n",
            "Resolving deltas: 100% (151/151), done.\n"
          ]
        }
      ],
      "source": [
        "!git clone https://github.com/czi-ai/scGenePT.git"
      ]
    },
    {
      "cell_type": "code",
      "execution_count": null,
      "metadata": {
        "id": "bAib9F59b2qx"
      },
      "outputs": [],
      "source": [
        "from pathlib import Path\n",
        "def initialize_folder_structure(models_dir, models, dataset):\n",
        "  models_finetuned = models_dir / \"finetuned\"\n",
        "  model_embeddings = models_dir / \"gene_embeddings\"\n",
        "  model_embeddings_annotations = models_dir / \"gene_embeddings\" / \"gene_annotations\"\n",
        "  models_finetuned.mkdir(parents=True, exist_ok=True)\n",
        "  for model in models:\n",
        "    model_dir = models_finetuned / model / dataset\n",
        "    model_dir.mkdir(parents=True, exist_ok=True)\n",
        "  model_embeddings.mkdir(parents=True, exist_ok=True)\n",
        "  model_embeddings_annotations.mkdir(parents=True, exist_ok=True)"
      ]
    },
    {
      "cell_type": "code",
      "execution_count": null,
      "metadata": {
        "id": "id2XNidmdv7_"
      },
      "outputs": [],
      "source": [
        "# This creates the required folder structure needed for the data\n",
        "initialize_folder_structure(Path('scGenePT/models'), ['scgpt', 'scgenept_go_c', 'scgenept_ncbi+uniprot'], \"norman\")"
      ]
    },
    {
      "cell_type": "markdown",
      "metadata": {
        "id": "XMEcfwH6Ck_p"
      },
      "source": [
        "\n",
        "**Model and Data**\n",
        "\n",
        "The trained models can be downloaded from S3:"
      ]
    },
    {
      "cell_type": "code",
      "source": [
        "dataset_name = 'norman' # this can also be replaced with adamson, but the model files need to be updated accordingly throughout the notebook"
      ],
      "metadata": {
        "id": "qK8LVDmA6NbT"
      },
      "execution_count": null,
      "outputs": []
    },
    {
      "cell_type": "code",
      "execution_count": null,
      "metadata": {
        "colab": {
          "base_uri": "https://localhost:8080/"
        },
        "id": "G0G0SlVZChz_",
        "outputId": "3bc2a66b-2bc6-497e-87a5-daf808a30bc9"
      },
      "outputs": [
        {
          "output_type": "stream",
          "name": "stdout",
          "text": [
            "download: s3://czi-scgenept-public/models/gene_embeddings/GO_C_gene_embeddings-gpt3.5-ada-concat.pickle to scGenePT/models/gene_embeddings/GO_C_gene_embeddings-gpt3.5-ada-concat.pickle\n",
            "download: s3://czi-scgenept-public/models/gene_embeddings/NCBI+UniProt_embeddings-gpt3.5-ada.pkl to scGenePT/models/gene_embeddings/NCBI+UniProt_embeddings-gpt3.5-ada.pkl\n",
            "download: s3://czi-scgenept-public/models/finetuned/scgpt/norman/best_model_seed_42.pt to scGenePT/models/finetuned/scgpt/norman/best_model_seed_42.pt\n",
            "download: s3://czi-scgenept-public/models/finetuned/scgenept_go_c/norman/best_model_gpt3.5_ada_rnd_seed_42_concat.pt to scGenePT/models/finetuned/scgenept_go_c/norman/best_model_gpt3.5_ada_rnd_seed_42_concat.pt\n",
            "download: s3://czi-scgenept-public/models/finetuned/scgenept_ncbi+uniprot/norman/best_model_gpt3.5_ada_rnd_seed_42.pt to scGenePT/models/finetuned/scgenept_ncbi+uniprot/norman/best_model_gpt3.5_ada_rnd_seed_42.pt\n"
          ]
        }
      ],
      "source": [
        "# Download the Gene Embeddings\n",
        "!aws s3 cp --no-sign-request s3://czi-scgenept-public/models/gene_embeddings/GO_C_gene_embeddings-gpt3.5-ada-concat.pickle scGenePT/models/gene_embeddings/\n",
        "!aws s3 cp --no-sign-request s3://czi-scgenept-public/models/gene_embeddings/NCBI+UniProt_embeddings-gpt3.5-ada.pkl  scGenePT/models/gene_embeddings/\n",
        "\n",
        "# Download the trained scGenePT models\n",
        "!aws s3 sync --no-sign-request s3://czi-scgenept-public/models/finetuned/scgpt/{dataset_name}/ scGenePT/models/finetuned/scgpt/{dataset_name}/\n",
        "!aws s3 sync --no-sign-request s3://czi-scgenept-public/models/finetuned/scgenept_go_c/norman/ scGenePT/models/finetuned/scgenept_go_c/{dataset_name}/\n",
        "!aws s3 sync --no-sign-request s3://czi-scgenept-public/models/finetuned/scgenept_ncbi+uniprot/{dataset_name}/ scGenePT/models/finetuned/scgenept_ncbi+uniprot/{dataset_name}/"
      ]
    },
    {
      "cell_type": "markdown",
      "source": [
        "Note that in this tutorial, we focus on comparing **scGenePT_GO−C** and **scGenePT_NCBI+UniProt** models, but all the other model variations can be downloaded in a similar way. The s3 links follow the structure:\n",
        "\n",
        "```\n",
        "s3://czi-scgenept-public/models/finetuned/{scgenept_model_name}/{dataset_name}\n",
        "```\n",
        "\n",
        "So if you would like to download other model variations, you have to change the **scgenept_model_name**, and if you want to a model trained on a different dataset, you need to change the **dataset_name**.\n",
        "\n",
        "For instance, to download a **scGenePT_GO−P** model trained on Adamson, you would run:\n",
        "\n",
        "```\n",
        "!aws s3 sync --no-sign-request s3://czi-scgenept-public/models/finetuned/scgenept_go_p/adamson/ scGenePT/models/finetuned/scgenept_go_p/adamson/\n",
        "```\n",
        "\n",
        "\n"
      ],
      "metadata": {
        "id": "mi3DDVFY0nFL"
      }
    },
    {
      "cell_type": "markdown",
      "source": [
        "Alternatively, you can mount all the assets at once - including all models and gene embeddings - by running the command below.  Note that this will take a few min, as it will download ~10GB of data:\n",
        "\n",
        "```\n",
        "!aws s3 sync --no-sign-request s3://czi-scgenept-public/models scGenePT/models\n",
        "```"
      ],
      "metadata": {
        "id": "dQDkBdbc4KbC"
      }
    },
    {
      "cell_type": "markdown",
      "metadata": {
        "id": "bsWNvblbSQJK"
      },
      "source": [
        "**Your folder structure should now look something like**:\n",
        "\n",
        "```\n",
        "- models\n",
        "    - pretrained\n",
        "        - scgpt/vocab.json\n",
        "    - gene_embeddings\n",
        "        - GO_C_gene_embeddings-gpt3.5-ada-concat.pickle\n",
        "        - NCBI+UniProt_embeddings-gpt3.5-ada.pkl\n",
        "        - gene_annotations\n",
        "            - gene_ontology_C.csv\n",
        "            - gene_ontology_P.csv\n",
        "            - gene_ontology_F.csv\n",
        "            - NCBI_summary_of_genes.json\n",
        "            - NCBI_UniProt_summary_of_genes.json\n",
        "    - finetuned\n",
        "        - scgpt/norman/best_model_rnd_seed_42_concat.pt\n",
        "        - scgenept_go_c/norman/best_model_gpt3.5_ada_rnd_seed_42_concat.pt\n",
        "        - scgenept_ncbi+uniprot/norman/best_model_gpt3.5_ada_rnd_seed_42_concat.pt\n",
        "- tutorials\n",
        "    - scgenept_tutorial.ipynb\n",
        "```"
      ]
    },
    {
      "cell_type": "code",
      "execution_count": null,
      "metadata": {
        "id": "aNSqZsf2xwlg"
      },
      "outputs": [],
      "source": [
        "%%capture [--no-stderr]\n",
        "import sys\n",
        "sys.path.insert(1, 'scGenePT')\n",
        "\n",
        "from train import load_dataloader\n",
        "from utils.data_loading import *\n",
        "from models.scGenePT import *\n",
        "import matplotlib.pyplot as plt\n",
        "from gears.inference import evaluate, compute_metrics, deeper_analysis, non_dropout_analysis\n",
        "import scanpy as sc\n",
        "import pickle as pkl"
      ]
    },
    {
      "cell_type": "markdown",
      "metadata": {
        "id": "AMtC5qMd44Mu"
      },
      "source": [
        "<a id='perturbation prediction'></a>\n",
        "## 1. Perturbation Prediction using a trained scGenePT model"
      ]
    },
    {
      "cell_type": "markdown",
      "metadata": {
        "id": "mYkPuP0aSQJM"
      },
      "source": [
        "<a id='load_dataset'></a>\n",
        "### Load dataset\n",
        "We start by inspecting the Norman dataset that the models were trained on. The dataloaders we used for training used a pre-processed version of Norman from [GEARS](https://github.com/snap-stanford/GEARS) [3]. Models in this notebook have been finetuned on the train split of this dataset. We can look at the AnnData file that contains all the data used for training/validation and testing. We will inspect the splits in a later section."
      ]
    },
    {
      "cell_type": "code",
      "execution_count": null,
      "metadata": {
        "id": "Tpd94Dz2RaZl",
        "colab": {
          "base_uri": "https://localhost:8080/"
        },
        "outputId": "3cca2455-2dcb-4642-aa8f-fc0eb2a6f8b8"
      },
      "outputs": [
        {
          "output_type": "stream",
          "name": "stdout",
          "text": [
            "download: s3://czi-scgenept-public/training_data/norman_pert_data_adata.h5ad.gz to scGenePT/tutorials/norman_pert_data_adata.h5ad.gz\n"
          ]
        }
      ],
      "source": [
        "!aws s3 cp --no-sign-request s3://czi-scgenept-public/training_data/{dataset_name}_pert_data_adata.h5ad.gz scGenePT/tutorials/{dataset_name}_pert_data_adata.h5ad.gz\n",
        "!gzip -d scGenePT/tutorials/{dataset_name}_pert_data_adata.h5ad.gz"
      ]
    },
    {
      "cell_type": "code",
      "source": [
        "pert_adata = sc.read_h5ad(f'scGenePT/tutorials/{dataset_name}_pert_data_adata.h5ad')"
      ],
      "metadata": {
        "id": "oJnFx9PlM0X7"
      },
      "execution_count": null,
      "outputs": []
    },
    {
      "cell_type": "code",
      "source": [
        "len(pert_adata.var)"
      ],
      "metadata": {
        "id": "SZak1iqgtCjV",
        "outputId": "9b7571e7-db38-40cb-f46c-0184db90e152",
        "colab": {
          "base_uri": "https://localhost:8080/"
        }
      },
      "execution_count": null,
      "outputs": [
        {
          "output_type": "execute_result",
          "data": {
            "text/plain": [
              "5045"
            ]
          },
          "metadata": {},
          "execution_count": 49
        }
      ]
    },
    {
      "cell_type": "markdown",
      "source": [
        "The code below can be used to get the same data directly from GEARS dataloaders. Note that it need ~20GB of memory and will time out on a T4 Google Collab instance. But it will run on an instance with larger RAM memory.\n",
        "\n",
        "```python\n",
        "from gears import PertData\n",
        "\n",
        "# Download the Pre-processed Norman dataset directly from GEARS\n",
        "pert_data = PertData('./data')\n",
        "pert_data = load_dataloader(dataset_name, batch_size, eval_batch_size, split = 'simulation')\n",
        "train_loader = pert_data.dataloader['train_loader']\n",
        "val_loader = pert_data.dataloader['val_loader']\n",
        "test_loader = pert_data.dataloader['test_loader']\n",
        "\n",
        "pert_adata = pert_data.adata\n",
        "pert_data_subgroup = pert_data.subgroup\n",
        "```"
      ],
      "metadata": {
        "id": "CdiN-IlI6DoJ"
      }
    },
    {
      "cell_type": "markdown",
      "metadata": {
        "id": "65n-T9wlSQJN"
      },
      "source": [
        "<a id='dataset_exploration'></a>\n",
        "### Dataset Exploration"
      ]
    },
    {
      "cell_type": "markdown",
      "metadata": {
        "id": "8HFtIDsvSQJN"
      },
      "source": [
        "This AnnData object contains gene expression counts and additional information about the cell observations:"
      ]
    },
    {
      "cell_type": "code",
      "execution_count": null,
      "metadata": {
        "id": "sXltq66mSQJN",
        "colab": {
          "base_uri": "https://localhost:8080/"
        },
        "outputId": "f3397e4b-3a3e-4196-8907-6ec033941477"
      },
      "outputs": [
        {
          "output_type": "execute_result",
          "data": {
            "text/plain": [
              "AnnData object with n_obs × n_vars = 91205 × 5045\n",
              "    obs: 'condition', 'cell_type', 'dose_val', 'control', 'condition_name'\n",
              "    var: 'gene_name'\n",
              "    uns: 'non_dropout_gene_idx', 'non_zeros_gene_idx', 'rank_genes_groups_cov_all', 'top_non_dropout_de_20', 'top_non_zero_de_20'\n",
              "    layers: 'counts'"
            ]
          },
          "metadata": {},
          "execution_count": 12
        }
      ],
      "source": [
        "pert_adata"
      ]
    },
    {
      "cell_type": "markdown",
      "metadata": {
        "id": "9qASXF0tSQJN"
      },
      "source": [
        "The gene expression counts are stored in `pert_adata.X`, where each entry (i, j) entry corresponds to the gene expression counts of gene j in row i."
      ]
    },
    {
      "cell_type": "code",
      "execution_count": null,
      "metadata": {
        "id": "-kuFbOpLSQJN",
        "colab": {
          "base_uri": "https://localhost:8080/"
        },
        "outputId": "d308e89f-eaa3-44a4-df07-50aff1825a91"
      },
      "outputs": [
        {
          "output_type": "execute_result",
          "data": {
            "text/plain": [
              "<Compressed Sparse Row sparse matrix of dtype 'float32'\n",
              "\twith 37317477 stored elements and shape (91205, 5045)>"
            ]
          },
          "metadata": {},
          "execution_count": 13
        }
      ],
      "source": [
        "pert_adata.X # 902105 cells, 5045 genes"
      ]
    },
    {
      "cell_type": "markdown",
      "metadata": {
        "id": "uACwsKRWSQJO"
      },
      "source": [
        "The `pert_adata.obs` file contains information about the different perturbation conditions applied to the data stored in .X. For instance, below we can see examples of 1-gene perturbations: *TSC22D1+ctrl, MAML2+ctrl*, etc, examples of 2-gene perturbations: *KLF1+MAP2K6, CEBPE+RUNX1T1*, and examples of control samples. Each of the conditions corresponds to gene expression counts stored in .X."
      ]
    },
    {
      "cell_type": "code",
      "execution_count": null,
      "metadata": {
        "id": "Sn4YwbsJSQJO",
        "colab": {
          "base_uri": "https://localhost:8080/",
          "height": 455
        },
        "outputId": "b50bb696-f3dd-4bb2-c14d-2e1abacd09b6"
      },
      "outputs": [
        {
          "output_type": "execute_result",
          "data": {
            "text/plain": [
              "                        condition cell_type dose_val  control  \\\n",
              "cell_barcode                                                    \n",
              "AAACCTGAGGCATGTG-1   TSC22D1+ctrl      A549      1+1        0   \n",
              "AAACCTGAGGCCCTTG-1    KLF1+MAP2K6      A549      1+1        0   \n",
              "AAACCTGCACGAAGCA-1           ctrl      A549        1        1   \n",
              "AAACCTGCAGACGTAG-1  CEBPE+RUNX1T1      A549      1+1        0   \n",
              "AAACCTGCAGCCTTGG-1     MAML2+ctrl      A549      1+1        0   \n",
              "...                           ...       ...      ...      ...   \n",
              "TTTGTCAGTCATGCAT-8   RHOXF2BB+SET      A549      1+1        0   \n",
              "TTTGTCATCAGTACGT-8     FOXA3+ctrl      A549      1+1        0   \n",
              "TTTGTCATCCACTCCA-8     CELF2+ctrl      A549      1+1        0   \n",
              "TTTGTCATCCCAACGG-8    BCORL1+ctrl      A549      1+1        0   \n",
              "TTTGTCATCTGGCGAC-8    MAP4K3+ctrl      A549      1+1        0   \n",
              "\n",
              "                            condition_name  \n",
              "cell_barcode                                \n",
              "AAACCTGAGGCATGTG-1   A549_TSC22D1+ctrl_1+1  \n",
              "AAACCTGAGGCCCTTG-1    A549_KLF1+MAP2K6_1+1  \n",
              "AAACCTGCACGAAGCA-1             A549_ctrl_1  \n",
              "AAACCTGCAGACGTAG-1  A549_CEBPE+RUNX1T1_1+1  \n",
              "AAACCTGCAGCCTTGG-1     A549_MAML2+ctrl_1+1  \n",
              "...                                    ...  \n",
              "TTTGTCAGTCATGCAT-8   A549_RHOXF2BB+SET_1+1  \n",
              "TTTGTCATCAGTACGT-8     A549_FOXA3+ctrl_1+1  \n",
              "TTTGTCATCCACTCCA-8     A549_CELF2+ctrl_1+1  \n",
              "TTTGTCATCCCAACGG-8    A549_BCORL1+ctrl_1+1  \n",
              "TTTGTCATCTGGCGAC-8    A549_MAP4K3+ctrl_1+1  \n",
              "\n",
              "[91205 rows x 5 columns]"
            ],
            "text/html": [
              "\n",
              "  <div id=\"df-fef336d4-6d32-476f-867b-86c75930f4c7\" class=\"colab-df-container\">\n",
              "    <div>\n",
              "<style scoped>\n",
              "    .dataframe tbody tr th:only-of-type {\n",
              "        vertical-align: middle;\n",
              "    }\n",
              "\n",
              "    .dataframe tbody tr th {\n",
              "        vertical-align: top;\n",
              "    }\n",
              "\n",
              "    .dataframe thead th {\n",
              "        text-align: right;\n",
              "    }\n",
              "</style>\n",
              "<table border=\"1\" class=\"dataframe\">\n",
              "  <thead>\n",
              "    <tr style=\"text-align: right;\">\n",
              "      <th></th>\n",
              "      <th>condition</th>\n",
              "      <th>cell_type</th>\n",
              "      <th>dose_val</th>\n",
              "      <th>control</th>\n",
              "      <th>condition_name</th>\n",
              "    </tr>\n",
              "    <tr>\n",
              "      <th>cell_barcode</th>\n",
              "      <th></th>\n",
              "      <th></th>\n",
              "      <th></th>\n",
              "      <th></th>\n",
              "      <th></th>\n",
              "    </tr>\n",
              "  </thead>\n",
              "  <tbody>\n",
              "    <tr>\n",
              "      <th>AAACCTGAGGCATGTG-1</th>\n",
              "      <td>TSC22D1+ctrl</td>\n",
              "      <td>A549</td>\n",
              "      <td>1+1</td>\n",
              "      <td>0</td>\n",
              "      <td>A549_TSC22D1+ctrl_1+1</td>\n",
              "    </tr>\n",
              "    <tr>\n",
              "      <th>AAACCTGAGGCCCTTG-1</th>\n",
              "      <td>KLF1+MAP2K6</td>\n",
              "      <td>A549</td>\n",
              "      <td>1+1</td>\n",
              "      <td>0</td>\n",
              "      <td>A549_KLF1+MAP2K6_1+1</td>\n",
              "    </tr>\n",
              "    <tr>\n",
              "      <th>AAACCTGCACGAAGCA-1</th>\n",
              "      <td>ctrl</td>\n",
              "      <td>A549</td>\n",
              "      <td>1</td>\n",
              "      <td>1</td>\n",
              "      <td>A549_ctrl_1</td>\n",
              "    </tr>\n",
              "    <tr>\n",
              "      <th>AAACCTGCAGACGTAG-1</th>\n",
              "      <td>CEBPE+RUNX1T1</td>\n",
              "      <td>A549</td>\n",
              "      <td>1+1</td>\n",
              "      <td>0</td>\n",
              "      <td>A549_CEBPE+RUNX1T1_1+1</td>\n",
              "    </tr>\n",
              "    <tr>\n",
              "      <th>AAACCTGCAGCCTTGG-1</th>\n",
              "      <td>MAML2+ctrl</td>\n",
              "      <td>A549</td>\n",
              "      <td>1+1</td>\n",
              "      <td>0</td>\n",
              "      <td>A549_MAML2+ctrl_1+1</td>\n",
              "    </tr>\n",
              "    <tr>\n",
              "      <th>...</th>\n",
              "      <td>...</td>\n",
              "      <td>...</td>\n",
              "      <td>...</td>\n",
              "      <td>...</td>\n",
              "      <td>...</td>\n",
              "    </tr>\n",
              "    <tr>\n",
              "      <th>TTTGTCAGTCATGCAT-8</th>\n",
              "      <td>RHOXF2BB+SET</td>\n",
              "      <td>A549</td>\n",
              "      <td>1+1</td>\n",
              "      <td>0</td>\n",
              "      <td>A549_RHOXF2BB+SET_1+1</td>\n",
              "    </tr>\n",
              "    <tr>\n",
              "      <th>TTTGTCATCAGTACGT-8</th>\n",
              "      <td>FOXA3+ctrl</td>\n",
              "      <td>A549</td>\n",
              "      <td>1+1</td>\n",
              "      <td>0</td>\n",
              "      <td>A549_FOXA3+ctrl_1+1</td>\n",
              "    </tr>\n",
              "    <tr>\n",
              "      <th>TTTGTCATCCACTCCA-8</th>\n",
              "      <td>CELF2+ctrl</td>\n",
              "      <td>A549</td>\n",
              "      <td>1+1</td>\n",
              "      <td>0</td>\n",
              "      <td>A549_CELF2+ctrl_1+1</td>\n",
              "    </tr>\n",
              "    <tr>\n",
              "      <th>TTTGTCATCCCAACGG-8</th>\n",
              "      <td>BCORL1+ctrl</td>\n",
              "      <td>A549</td>\n",
              "      <td>1+1</td>\n",
              "      <td>0</td>\n",
              "      <td>A549_BCORL1+ctrl_1+1</td>\n",
              "    </tr>\n",
              "    <tr>\n",
              "      <th>TTTGTCATCTGGCGAC-8</th>\n",
              "      <td>MAP4K3+ctrl</td>\n",
              "      <td>A549</td>\n",
              "      <td>1+1</td>\n",
              "      <td>0</td>\n",
              "      <td>A549_MAP4K3+ctrl_1+1</td>\n",
              "    </tr>\n",
              "  </tbody>\n",
              "</table>\n",
              "<p>91205 rows × 5 columns</p>\n",
              "</div>\n",
              "    <div class=\"colab-df-buttons\">\n",
              "\n",
              "  <div class=\"colab-df-container\">\n",
              "    <button class=\"colab-df-convert\" onclick=\"convertToInteractive('df-fef336d4-6d32-476f-867b-86c75930f4c7')\"\n",
              "            title=\"Convert this dataframe to an interactive table.\"\n",
              "            style=\"display:none;\">\n",
              "\n",
              "  <svg xmlns=\"http://www.w3.org/2000/svg\" height=\"24px\" viewBox=\"0 -960 960 960\">\n",
              "    <path d=\"M120-120v-720h720v720H120Zm60-500h600v-160H180v160Zm220 220h160v-160H400v160Zm0 220h160v-160H400v160ZM180-400h160v-160H180v160Zm440 0h160v-160H620v160ZM180-180h160v-160H180v160Zm440 0h160v-160H620v160Z\"/>\n",
              "  </svg>\n",
              "    </button>\n",
              "\n",
              "  <style>\n",
              "    .colab-df-container {\n",
              "      display:flex;\n",
              "      gap: 12px;\n",
              "    }\n",
              "\n",
              "    .colab-df-convert {\n",
              "      background-color: #E8F0FE;\n",
              "      border: none;\n",
              "      border-radius: 50%;\n",
              "      cursor: pointer;\n",
              "      display: none;\n",
              "      fill: #1967D2;\n",
              "      height: 32px;\n",
              "      padding: 0 0 0 0;\n",
              "      width: 32px;\n",
              "    }\n",
              "\n",
              "    .colab-df-convert:hover {\n",
              "      background-color: #E2EBFA;\n",
              "      box-shadow: 0px 1px 2px rgba(60, 64, 67, 0.3), 0px 1px 3px 1px rgba(60, 64, 67, 0.15);\n",
              "      fill: #174EA6;\n",
              "    }\n",
              "\n",
              "    .colab-df-buttons div {\n",
              "      margin-bottom: 4px;\n",
              "    }\n",
              "\n",
              "    [theme=dark] .colab-df-convert {\n",
              "      background-color: #3B4455;\n",
              "      fill: #D2E3FC;\n",
              "    }\n",
              "\n",
              "    [theme=dark] .colab-df-convert:hover {\n",
              "      background-color: #434B5C;\n",
              "      box-shadow: 0px 1px 3px 1px rgba(0, 0, 0, 0.15);\n",
              "      filter: drop-shadow(0px 1px 2px rgba(0, 0, 0, 0.3));\n",
              "      fill: #FFFFFF;\n",
              "    }\n",
              "  </style>\n",
              "\n",
              "    <script>\n",
              "      const buttonEl =\n",
              "        document.querySelector('#df-fef336d4-6d32-476f-867b-86c75930f4c7 button.colab-df-convert');\n",
              "      buttonEl.style.display =\n",
              "        google.colab.kernel.accessAllowed ? 'block' : 'none';\n",
              "\n",
              "      async function convertToInteractive(key) {\n",
              "        const element = document.querySelector('#df-fef336d4-6d32-476f-867b-86c75930f4c7');\n",
              "        const dataTable =\n",
              "          await google.colab.kernel.invokeFunction('convertToInteractive',\n",
              "                                                    [key], {});\n",
              "        if (!dataTable) return;\n",
              "\n",
              "        const docLinkHtml = 'Like what you see? Visit the ' +\n",
              "          '<a target=\"_blank\" href=https://colab.research.google.com/notebooks/data_table.ipynb>data table notebook</a>'\n",
              "          + ' to learn more about interactive tables.';\n",
              "        element.innerHTML = '';\n",
              "        dataTable['output_type'] = 'display_data';\n",
              "        await google.colab.output.renderOutput(dataTable, element);\n",
              "        const docLink = document.createElement('div');\n",
              "        docLink.innerHTML = docLinkHtml;\n",
              "        element.appendChild(docLink);\n",
              "      }\n",
              "    </script>\n",
              "  </div>\n",
              "\n",
              "\n",
              "    <div id=\"df-d7e73871-7e37-49ee-9f25-35e7992a6cec\">\n",
              "      <button class=\"colab-df-quickchart\" onclick=\"quickchart('df-d7e73871-7e37-49ee-9f25-35e7992a6cec')\"\n",
              "                title=\"Suggest charts\"\n",
              "                style=\"display:none;\">\n",
              "\n",
              "<svg xmlns=\"http://www.w3.org/2000/svg\" height=\"24px\"viewBox=\"0 0 24 24\"\n",
              "     width=\"24px\">\n",
              "    <g>\n",
              "        <path d=\"M19 3H5c-1.1 0-2 .9-2 2v14c0 1.1.9 2 2 2h14c1.1 0 2-.9 2-2V5c0-1.1-.9-2-2-2zM9 17H7v-7h2v7zm4 0h-2V7h2v10zm4 0h-2v-4h2v4z\"/>\n",
              "    </g>\n",
              "</svg>\n",
              "      </button>\n",
              "\n",
              "<style>\n",
              "  .colab-df-quickchart {\n",
              "      --bg-color: #E8F0FE;\n",
              "      --fill-color: #1967D2;\n",
              "      --hover-bg-color: #E2EBFA;\n",
              "      --hover-fill-color: #174EA6;\n",
              "      --disabled-fill-color: #AAA;\n",
              "      --disabled-bg-color: #DDD;\n",
              "  }\n",
              "\n",
              "  [theme=dark] .colab-df-quickchart {\n",
              "      --bg-color: #3B4455;\n",
              "      --fill-color: #D2E3FC;\n",
              "      --hover-bg-color: #434B5C;\n",
              "      --hover-fill-color: #FFFFFF;\n",
              "      --disabled-bg-color: #3B4455;\n",
              "      --disabled-fill-color: #666;\n",
              "  }\n",
              "\n",
              "  .colab-df-quickchart {\n",
              "    background-color: var(--bg-color);\n",
              "    border: none;\n",
              "    border-radius: 50%;\n",
              "    cursor: pointer;\n",
              "    display: none;\n",
              "    fill: var(--fill-color);\n",
              "    height: 32px;\n",
              "    padding: 0;\n",
              "    width: 32px;\n",
              "  }\n",
              "\n",
              "  .colab-df-quickchart:hover {\n",
              "    background-color: var(--hover-bg-color);\n",
              "    box-shadow: 0 1px 2px rgba(60, 64, 67, 0.3), 0 1px 3px 1px rgba(60, 64, 67, 0.15);\n",
              "    fill: var(--button-hover-fill-color);\n",
              "  }\n",
              "\n",
              "  .colab-df-quickchart-complete:disabled,\n",
              "  .colab-df-quickchart-complete:disabled:hover {\n",
              "    background-color: var(--disabled-bg-color);\n",
              "    fill: var(--disabled-fill-color);\n",
              "    box-shadow: none;\n",
              "  }\n",
              "\n",
              "  .colab-df-spinner {\n",
              "    border: 2px solid var(--fill-color);\n",
              "    border-color: transparent;\n",
              "    border-bottom-color: var(--fill-color);\n",
              "    animation:\n",
              "      spin 1s steps(1) infinite;\n",
              "  }\n",
              "\n",
              "  @keyframes spin {\n",
              "    0% {\n",
              "      border-color: transparent;\n",
              "      border-bottom-color: var(--fill-color);\n",
              "      border-left-color: var(--fill-color);\n",
              "    }\n",
              "    20% {\n",
              "      border-color: transparent;\n",
              "      border-left-color: var(--fill-color);\n",
              "      border-top-color: var(--fill-color);\n",
              "    }\n",
              "    30% {\n",
              "      border-color: transparent;\n",
              "      border-left-color: var(--fill-color);\n",
              "      border-top-color: var(--fill-color);\n",
              "      border-right-color: var(--fill-color);\n",
              "    }\n",
              "    40% {\n",
              "      border-color: transparent;\n",
              "      border-right-color: var(--fill-color);\n",
              "      border-top-color: var(--fill-color);\n",
              "    }\n",
              "    60% {\n",
              "      border-color: transparent;\n",
              "      border-right-color: var(--fill-color);\n",
              "    }\n",
              "    80% {\n",
              "      border-color: transparent;\n",
              "      border-right-color: var(--fill-color);\n",
              "      border-bottom-color: var(--fill-color);\n",
              "    }\n",
              "    90% {\n",
              "      border-color: transparent;\n",
              "      border-bottom-color: var(--fill-color);\n",
              "    }\n",
              "  }\n",
              "</style>\n",
              "\n",
              "      <script>\n",
              "        async function quickchart(key) {\n",
              "          const quickchartButtonEl =\n",
              "            document.querySelector('#' + key + ' button');\n",
              "          quickchartButtonEl.disabled = true;  // To prevent multiple clicks.\n",
              "          quickchartButtonEl.classList.add('colab-df-spinner');\n",
              "          try {\n",
              "            const charts = await google.colab.kernel.invokeFunction(\n",
              "                'suggestCharts', [key], {});\n",
              "          } catch (error) {\n",
              "            console.error('Error during call to suggestCharts:', error);\n",
              "          }\n",
              "          quickchartButtonEl.classList.remove('colab-df-spinner');\n",
              "          quickchartButtonEl.classList.add('colab-df-quickchart-complete');\n",
              "        }\n",
              "        (() => {\n",
              "          let quickchartButtonEl =\n",
              "            document.querySelector('#df-d7e73871-7e37-49ee-9f25-35e7992a6cec button');\n",
              "          quickchartButtonEl.style.display =\n",
              "            google.colab.kernel.accessAllowed ? 'block' : 'none';\n",
              "        })();\n",
              "      </script>\n",
              "    </div>\n",
              "\n",
              "    </div>\n",
              "  </div>\n"
            ],
            "application/vnd.google.colaboratory.intrinsic+json": {
              "type": "dataframe",
              "summary": "{\n  \"name\": \"pert_adata\",\n  \"rows\": 91205,\n  \"fields\": [\n    {\n      \"column\": \"cell_barcode\",\n      \"properties\": {\n        \"dtype\": \"string\",\n        \"num_unique_values\": 91205,\n        \"samples\": [\n          \"ACGAGGACAGGGTATG-3\",\n          \"CGCCAAGAGTAGGTGC-1\",\n          \"CTAACTTAGCTCCCAG-8\"\n        ],\n        \"semantic_type\": \"\",\n        \"description\": \"\"\n      }\n    },\n    {\n      \"column\": \"condition\",\n      \"properties\": {\n        \"dtype\": \"category\",\n        \"num_unique_values\": 284,\n        \"samples\": [\n          \"DUSP9+ctrl\",\n          \"ctrl+PTPN9\",\n          \"ctrl+CLDN6\"\n        ],\n        \"semantic_type\": \"\",\n        \"description\": \"\"\n      }\n    },\n    {\n      \"column\": \"cell_type\",\n      \"properties\": {\n        \"dtype\": \"category\",\n        \"num_unique_values\": 1,\n        \"samples\": [\n          \"A549\"\n        ],\n        \"semantic_type\": \"\",\n        \"description\": \"\"\n      }\n    },\n    {\n      \"column\": \"dose_val\",\n      \"properties\": {\n        \"dtype\": \"category\",\n        \"num_unique_values\": 2,\n        \"samples\": [\n          \"1\"\n        ],\n        \"semantic_type\": \"\",\n        \"description\": \"\"\n      }\n    },\n    {\n      \"column\": \"control\",\n      \"properties\": {\n        \"dtype\": \"number\",\n        \"std\": 0,\n        \"min\": 0,\n        \"max\": 1,\n        \"num_unique_values\": 2,\n        \"samples\": [\n          1\n        ],\n        \"semantic_type\": \"\",\n        \"description\": \"\"\n      }\n    },\n    {\n      \"column\": \"condition_name\",\n      \"properties\": {\n        \"dtype\": \"category\",\n        \"num_unique_values\": 284,\n        \"samples\": [\n          \"A549_DUSP9+ctrl_1+1\"\n        ],\n        \"semantic_type\": \"\",\n        \"description\": \"\"\n      }\n    }\n  ]\n}"
            }
          },
          "metadata": {},
          "execution_count": 14
        }
      ],
      "source": [
        "pert_adata.obs # perturbation conditions applied to the 902105 cells"
      ]
    },
    {
      "cell_type": "markdown",
      "metadata": {
        "id": "0rKIxYYASQJO"
      },
      "source": [
        "The `pert_adata.var` gives us the set of genes:"
      ]
    },
    {
      "cell_type": "code",
      "execution_count": null,
      "metadata": {
        "id": "F-RBuNmRSQJO",
        "colab": {
          "base_uri": "https://localhost:8080/",
          "height": 255
        },
        "outputId": "af6500ea-468d-4ec6-9f23-9c75fe958379"
      },
      "outputs": [
        {
          "output_type": "stream",
          "name": "stdout",
          "text": [
            "There are 5045 number of genes present in the dataset.\n"
          ]
        },
        {
          "output_type": "execute_result",
          "data": {
            "text/plain": [
              "                    gene_name\n",
              "gene_id                      \n",
              "ENSG00000239945  RP11-34P13.8\n",
              "ENSG00000223764   RP11-54O7.3\n",
              "ENSG00000187634        SAMD11\n",
              "ENSG00000187642         PERM1\n",
              "ENSG00000188290          HES4"
            ],
            "text/html": [
              "\n",
              "  <div id=\"df-3fb03613-d282-4633-ad69-92acb9940f3b\" class=\"colab-df-container\">\n",
              "    <div>\n",
              "<style scoped>\n",
              "    .dataframe tbody tr th:only-of-type {\n",
              "        vertical-align: middle;\n",
              "    }\n",
              "\n",
              "    .dataframe tbody tr th {\n",
              "        vertical-align: top;\n",
              "    }\n",
              "\n",
              "    .dataframe thead th {\n",
              "        text-align: right;\n",
              "    }\n",
              "</style>\n",
              "<table border=\"1\" class=\"dataframe\">\n",
              "  <thead>\n",
              "    <tr style=\"text-align: right;\">\n",
              "      <th></th>\n",
              "      <th>gene_name</th>\n",
              "    </tr>\n",
              "    <tr>\n",
              "      <th>gene_id</th>\n",
              "      <th></th>\n",
              "    </tr>\n",
              "  </thead>\n",
              "  <tbody>\n",
              "    <tr>\n",
              "      <th>ENSG00000239945</th>\n",
              "      <td>RP11-34P13.8</td>\n",
              "    </tr>\n",
              "    <tr>\n",
              "      <th>ENSG00000223764</th>\n",
              "      <td>RP11-54O7.3</td>\n",
              "    </tr>\n",
              "    <tr>\n",
              "      <th>ENSG00000187634</th>\n",
              "      <td>SAMD11</td>\n",
              "    </tr>\n",
              "    <tr>\n",
              "      <th>ENSG00000187642</th>\n",
              "      <td>PERM1</td>\n",
              "    </tr>\n",
              "    <tr>\n",
              "      <th>ENSG00000188290</th>\n",
              "      <td>HES4</td>\n",
              "    </tr>\n",
              "  </tbody>\n",
              "</table>\n",
              "</div>\n",
              "    <div class=\"colab-df-buttons\">\n",
              "\n",
              "  <div class=\"colab-df-container\">\n",
              "    <button class=\"colab-df-convert\" onclick=\"convertToInteractive('df-3fb03613-d282-4633-ad69-92acb9940f3b')\"\n",
              "            title=\"Convert this dataframe to an interactive table.\"\n",
              "            style=\"display:none;\">\n",
              "\n",
              "  <svg xmlns=\"http://www.w3.org/2000/svg\" height=\"24px\" viewBox=\"0 -960 960 960\">\n",
              "    <path d=\"M120-120v-720h720v720H120Zm60-500h600v-160H180v160Zm220 220h160v-160H400v160Zm0 220h160v-160H400v160ZM180-400h160v-160H180v160Zm440 0h160v-160H620v160ZM180-180h160v-160H180v160Zm440 0h160v-160H620v160Z\"/>\n",
              "  </svg>\n",
              "    </button>\n",
              "\n",
              "  <style>\n",
              "    .colab-df-container {\n",
              "      display:flex;\n",
              "      gap: 12px;\n",
              "    }\n",
              "\n",
              "    .colab-df-convert {\n",
              "      background-color: #E8F0FE;\n",
              "      border: none;\n",
              "      border-radius: 50%;\n",
              "      cursor: pointer;\n",
              "      display: none;\n",
              "      fill: #1967D2;\n",
              "      height: 32px;\n",
              "      padding: 0 0 0 0;\n",
              "      width: 32px;\n",
              "    }\n",
              "\n",
              "    .colab-df-convert:hover {\n",
              "      background-color: #E2EBFA;\n",
              "      box-shadow: 0px 1px 2px rgba(60, 64, 67, 0.3), 0px 1px 3px 1px rgba(60, 64, 67, 0.15);\n",
              "      fill: #174EA6;\n",
              "    }\n",
              "\n",
              "    .colab-df-buttons div {\n",
              "      margin-bottom: 4px;\n",
              "    }\n",
              "\n",
              "    [theme=dark] .colab-df-convert {\n",
              "      background-color: #3B4455;\n",
              "      fill: #D2E3FC;\n",
              "    }\n",
              "\n",
              "    [theme=dark] .colab-df-convert:hover {\n",
              "      background-color: #434B5C;\n",
              "      box-shadow: 0px 1px 3px 1px rgba(0, 0, 0, 0.15);\n",
              "      filter: drop-shadow(0px 1px 2px rgba(0, 0, 0, 0.3));\n",
              "      fill: #FFFFFF;\n",
              "    }\n",
              "  </style>\n",
              "\n",
              "    <script>\n",
              "      const buttonEl =\n",
              "        document.querySelector('#df-3fb03613-d282-4633-ad69-92acb9940f3b button.colab-df-convert');\n",
              "      buttonEl.style.display =\n",
              "        google.colab.kernel.accessAllowed ? 'block' : 'none';\n",
              "\n",
              "      async function convertToInteractive(key) {\n",
              "        const element = document.querySelector('#df-3fb03613-d282-4633-ad69-92acb9940f3b');\n",
              "        const dataTable =\n",
              "          await google.colab.kernel.invokeFunction('convertToInteractive',\n",
              "                                                    [key], {});\n",
              "        if (!dataTable) return;\n",
              "\n",
              "        const docLinkHtml = 'Like what you see? Visit the ' +\n",
              "          '<a target=\"_blank\" href=https://colab.research.google.com/notebooks/data_table.ipynb>data table notebook</a>'\n",
              "          + ' to learn more about interactive tables.';\n",
              "        element.innerHTML = '';\n",
              "        dataTable['output_type'] = 'display_data';\n",
              "        await google.colab.output.renderOutput(dataTable, element);\n",
              "        const docLink = document.createElement('div');\n",
              "        docLink.innerHTML = docLinkHtml;\n",
              "        element.appendChild(docLink);\n",
              "      }\n",
              "    </script>\n",
              "  </div>\n",
              "\n",
              "\n",
              "    <div id=\"df-97e7d045-ca0f-4991-b51d-21bc669556a2\">\n",
              "      <button class=\"colab-df-quickchart\" onclick=\"quickchart('df-97e7d045-ca0f-4991-b51d-21bc669556a2')\"\n",
              "                title=\"Suggest charts\"\n",
              "                style=\"display:none;\">\n",
              "\n",
              "<svg xmlns=\"http://www.w3.org/2000/svg\" height=\"24px\"viewBox=\"0 0 24 24\"\n",
              "     width=\"24px\">\n",
              "    <g>\n",
              "        <path d=\"M19 3H5c-1.1 0-2 .9-2 2v14c0 1.1.9 2 2 2h14c1.1 0 2-.9 2-2V5c0-1.1-.9-2-2-2zM9 17H7v-7h2v7zm4 0h-2V7h2v10zm4 0h-2v-4h2v4z\"/>\n",
              "    </g>\n",
              "</svg>\n",
              "      </button>\n",
              "\n",
              "<style>\n",
              "  .colab-df-quickchart {\n",
              "      --bg-color: #E8F0FE;\n",
              "      --fill-color: #1967D2;\n",
              "      --hover-bg-color: #E2EBFA;\n",
              "      --hover-fill-color: #174EA6;\n",
              "      --disabled-fill-color: #AAA;\n",
              "      --disabled-bg-color: #DDD;\n",
              "  }\n",
              "\n",
              "  [theme=dark] .colab-df-quickchart {\n",
              "      --bg-color: #3B4455;\n",
              "      --fill-color: #D2E3FC;\n",
              "      --hover-bg-color: #434B5C;\n",
              "      --hover-fill-color: #FFFFFF;\n",
              "      --disabled-bg-color: #3B4455;\n",
              "      --disabled-fill-color: #666;\n",
              "  }\n",
              "\n",
              "  .colab-df-quickchart {\n",
              "    background-color: var(--bg-color);\n",
              "    border: none;\n",
              "    border-radius: 50%;\n",
              "    cursor: pointer;\n",
              "    display: none;\n",
              "    fill: var(--fill-color);\n",
              "    height: 32px;\n",
              "    padding: 0;\n",
              "    width: 32px;\n",
              "  }\n",
              "\n",
              "  .colab-df-quickchart:hover {\n",
              "    background-color: var(--hover-bg-color);\n",
              "    box-shadow: 0 1px 2px rgba(60, 64, 67, 0.3), 0 1px 3px 1px rgba(60, 64, 67, 0.15);\n",
              "    fill: var(--button-hover-fill-color);\n",
              "  }\n",
              "\n",
              "  .colab-df-quickchart-complete:disabled,\n",
              "  .colab-df-quickchart-complete:disabled:hover {\n",
              "    background-color: var(--disabled-bg-color);\n",
              "    fill: var(--disabled-fill-color);\n",
              "    box-shadow: none;\n",
              "  }\n",
              "\n",
              "  .colab-df-spinner {\n",
              "    border: 2px solid var(--fill-color);\n",
              "    border-color: transparent;\n",
              "    border-bottom-color: var(--fill-color);\n",
              "    animation:\n",
              "      spin 1s steps(1) infinite;\n",
              "  }\n",
              "\n",
              "  @keyframes spin {\n",
              "    0% {\n",
              "      border-color: transparent;\n",
              "      border-bottom-color: var(--fill-color);\n",
              "      border-left-color: var(--fill-color);\n",
              "    }\n",
              "    20% {\n",
              "      border-color: transparent;\n",
              "      border-left-color: var(--fill-color);\n",
              "      border-top-color: var(--fill-color);\n",
              "    }\n",
              "    30% {\n",
              "      border-color: transparent;\n",
              "      border-left-color: var(--fill-color);\n",
              "      border-top-color: var(--fill-color);\n",
              "      border-right-color: var(--fill-color);\n",
              "    }\n",
              "    40% {\n",
              "      border-color: transparent;\n",
              "      border-right-color: var(--fill-color);\n",
              "      border-top-color: var(--fill-color);\n",
              "    }\n",
              "    60% {\n",
              "      border-color: transparent;\n",
              "      border-right-color: var(--fill-color);\n",
              "    }\n",
              "    80% {\n",
              "      border-color: transparent;\n",
              "      border-right-color: var(--fill-color);\n",
              "      border-bottom-color: var(--fill-color);\n",
              "    }\n",
              "    90% {\n",
              "      border-color: transparent;\n",
              "      border-bottom-color: var(--fill-color);\n",
              "    }\n",
              "  }\n",
              "</style>\n",
              "\n",
              "      <script>\n",
              "        async function quickchart(key) {\n",
              "          const quickchartButtonEl =\n",
              "            document.querySelector('#' + key + ' button');\n",
              "          quickchartButtonEl.disabled = true;  // To prevent multiple clicks.\n",
              "          quickchartButtonEl.classList.add('colab-df-spinner');\n",
              "          try {\n",
              "            const charts = await google.colab.kernel.invokeFunction(\n",
              "                'suggestCharts', [key], {});\n",
              "          } catch (error) {\n",
              "            console.error('Error during call to suggestCharts:', error);\n",
              "          }\n",
              "          quickchartButtonEl.classList.remove('colab-df-spinner');\n",
              "          quickchartButtonEl.classList.add('colab-df-quickchart-complete');\n",
              "        }\n",
              "        (() => {\n",
              "          let quickchartButtonEl =\n",
              "            document.querySelector('#df-97e7d045-ca0f-4991-b51d-21bc669556a2 button');\n",
              "          quickchartButtonEl.style.display =\n",
              "            google.colab.kernel.accessAllowed ? 'block' : 'none';\n",
              "        })();\n",
              "      </script>\n",
              "    </div>\n",
              "\n",
              "    </div>\n",
              "  </div>\n"
            ],
            "application/vnd.google.colaboratory.intrinsic+json": {
              "type": "dataframe",
              "summary": "{\n  \"name\": \"pert_adata\",\n  \"rows\": 5,\n  \"fields\": [\n    {\n      \"column\": \"gene_id\",\n      \"properties\": {\n        \"dtype\": \"string\",\n        \"num_unique_values\": 5,\n        \"samples\": [\n          \"ENSG00000223764\",\n          \"ENSG00000188290\",\n          \"ENSG00000187634\"\n        ],\n        \"semantic_type\": \"\",\n        \"description\": \"\"\n      }\n    },\n    {\n      \"column\": \"gene_name\",\n      \"properties\": {\n        \"dtype\": \"category\",\n        \"num_unique_values\": 5,\n        \"samples\": [\n          \"RP11-54O7.3\",\n          \"HES4\",\n          \"SAMD11\"\n        ],\n        \"semantic_type\": \"\",\n        \"description\": \"\"\n      }\n    }\n  ]\n}"
            }
          },
          "metadata": {},
          "execution_count": 15
        }
      ],
      "source": [
        "print(f'There are {len(pert_adata.var)} number of genes present in the dataset.')\n",
        "pert_adata.var.head() # the names of the 5045 genes"
      ]
    },
    {
      "cell_type": "markdown",
      "metadata": {
        "id": "sLIOzdjnSQJO"
      },
      "source": [
        "<a id='load_trained_scgenept'></a>\n",
        "### Load trained scGenePT models\n",
        "\n",
        "In this section, we show examples of loading multiple scGenePT models for prediction in order to compare them. All the models under the scGenePT Model Zoo can be found under the [GitHub repo](https://github.com/czi-ai/scGenePT/) and the trained model weights under `s3://czi-scgenept-public/models`.\n",
        "\n",
        "Here, we load the following models\n",
        "- **scGPT** = scGPT\n",
        "- **scGenePT_NCBI+UniProt** = scGPT + NCBI Gene Card Summaries + UniProt Protein Summaries\n",
        "- **scGenePT_GO−C** = scGPT + GO Cellular Components Annotations\n",
        "\n",
        "Note that models are assumed to be under the `models/finetuned/{dataset_name}/{model_type}/` folder"
      ]
    },
    {
      "cell_type": "code",
      "execution_count": null,
      "metadata": {
        "id": "E1Jf04O3SQJO"
      },
      "outputs": [],
      "source": [
        "def load_trained_scgenept_model(adata, model_type, models_dir, model_location, device, verbose = False):\n",
        "    embs_to_include = get_embs_to_include(model_type)\n",
        "    vocab_file = models_dir + 'pretrained/scgpt/vocab.json'\n",
        "    vocab, gene_ids, dataset_genes, gene2idx = match_genes_to_scgpt_vocab_from_adata(vocab_file, adata, SPECIAL_TOKENS)\n",
        "    ntokens = len(vocab)  # size of vocabulary\n",
        "    genept_embs, genept_emb_type, genept_emb_dim, found_genes_genept = initialize_genept_embeddings(embs_to_include, dataset_genes, vocab, model_type, models_dir)\n",
        "    go_embs_to_include, go_emb_type, go_emb_dim, found_genes_go = initialize_go_embeddings(embs_to_include, dataset_genes, vocab, model_type, models_dir)\n",
        "\n",
        "    # we disable flash attention for inference for simplicity\n",
        "    use_fast_transformer = False\n",
        "\n",
        "    model = scGenePT(\n",
        "        ntoken=ntokens,\n",
        "        d_model=EMBSIZE,\n",
        "        nhead=NHEAD,\n",
        "        d_hid=D_HID,\n",
        "        nlayers=NLAYERS,\n",
        "        nlayers_cls=N_LAYERS_CLS,\n",
        "        n_cls=N_CLS,\n",
        "        vocab=vocab,\n",
        "        n_perturbagens=2,\n",
        "        dropout=0.0,\n",
        "        pad_token=PAD_TOKEN,\n",
        "        pad_value=PAD_VALUE,\n",
        "        pert_pad_id=PERT_PAD_ID,\n",
        "        use_fast_transformer=use_fast_transformer,\n",
        "        embs_to_include = embs_to_include,\n",
        "        genept_embs = genept_embs,\n",
        "        genept_emb_type = genept_emb_type,\n",
        "        genept_emb_size = genept_emb_dim,\n",
        "        go_embs_to_include = go_embs_to_include,\n",
        "        go_emb_type = go_emb_type,\n",
        "        go_emb_size = go_emb_dim\n",
        "    )\n",
        "\n",
        "    pretrained_params = torch.load(model_location, weights_only=True, map_location = device)\n",
        "    if not use_fast_transformer:\n",
        "        pretrained_params = {\n",
        "            k.replace(\"Wqkv.\", \"in_proj_\"): v for k, v in pretrained_params.items()\n",
        "        }\n",
        "\n",
        "    model.load_state_dict(pretrained_params)\n",
        "\n",
        "    if verbose:\n",
        "        print(model)\n",
        "    model.to(device)\n",
        "    return model, gene_ids"
      ]
    },
    {
      "cell_type": "code",
      "execution_count": null,
      "metadata": {
        "id": "m15jAlPTSQJO",
        "colab": {
          "base_uri": "https://localhost:8080/"
        },
        "outputId": "b95bb016-eac0-4911-f47d-160f57d0787d"
      },
      "outputs": [
        {
          "output_type": "stream",
          "name": "stdout",
          "text": [
            "Using device cuda\n",
            "Now loading a scgpt model ... \n",
            "==============================\n",
            "scGenePT model-type: scgpt\n",
            "match 4547/5045 genes in vocabulary of size 60697.\n",
            "Using the following embeddings:['scGPT_counts_embs', 'scGPT_token_embs']\n",
            "Done!\n",
            "\n",
            "Now loading a scgenept_go_c_gpt_concat model ... \n",
            "==============================\n",
            "scGenePT model-type: scgenept_go_c_gpt_concat\n",
            "match 4547/5045 genes in vocabulary of size 60697.\n",
            "Using c GO embs\n",
            "Matched 2945 out of 5045 genes in the GenePT-w embedding\n",
            "Using the following embeddings:['GO_token_embs_gpt_concat', 'scGPT_counts_embs', 'scGPT_token_embs']\n",
            "Done!\n",
            "\n",
            "Now loading a scgenept_ncbi+uniprot_gpt model ... \n",
            "==============================\n",
            "scGenePT model-type: scgenept_ncbi+uniprot_gpt\n",
            "match 4547/5045 genes in vocabulary of size 60697.\n",
            "Using ncbi+uniprot genept embs, embedded with gpt\n",
            "Matched 3351 out of 5045 genes in the GenePT-w embedding\n",
            "Using the following embeddings:['scGPT_counts_embs', 'scGPT_token_embs', 'genePT_token_embs_gpt']\n",
            "Done!\n",
            "\n"
          ]
        }
      ],
      "source": [
        "device = torch.device(\"cuda\" if torch.cuda.is_available() else \"cpu\")\n",
        "print(f'Using device {device}')\n",
        "\n",
        "# Mapping from model name to the name of the model file model weights are saved\n",
        "model_name2model_variation = {'scgpt' : 'best_model_seed_42.pt',\n",
        "                    'scgenept_ncbi+uniprot_gpt' : 'best_model_gpt3.5_ada_rnd_seed_42.pt',\n",
        "                    'scgenept_go_c_gpt_concat' : 'best_model_gpt3.5_ada_rnd_seed_42_concat.pt'}\n",
        "# Names of the scGenePT models to load. Note that these have to match the keys in the model_name2model_variation dict\n",
        "models = ['scgpt', 'scgenept_go_c_gpt_concat', 'scgenept_ncbi+uniprot_gpt']\n",
        "\n",
        "# To load all the models, uncomment this code and download the specific models from S3 using:\n",
        "# !aws s3://czi-scgenept-public/models/finetuned/{scgenept_model_name}/{dataset_name} scGenePT/models/finetuned/{scgenept_model_name}/{dataset_name}\n",
        "# model_name2model_variation = {'scgpt' : 'best_model_seed_42.pt',\n",
        "#                     'scgenept_ncbi_gpt' : 'best_model_gpt3.5_ada_rnd_seed_42.pt',\n",
        "#                     'scgenept_ncbi+uniprot_gpt' : 'best_model_gpt3.5_ada_rnd_seed_42.pt',\n",
        "#                     'scgenept_go_c_gpt_concat' : 'best_model_gpt3.5_ada_rnd_seed_42_concat.pt',\n",
        "#                     'scgenept_go_f_gpt_concat' : 'best_model_gpt3.5_ada_rnd_seed_42_concat.pt',\n",
        "#                     'scgenept_go_p_gpt_concat' : 'best_model_gpt3.5_ada_rnd_seed_42_concat.pt',\n",
        "#                     'scgenept_go_all_gpt_concat' : 'best_model_gpt3.5_ada_rnd_seed_42_concat.pt'}\n",
        "# models = ['scgpt',  'scgenept_go_c_gpt_concat', 'scgenept_go_p_gpt_concat', 'scgenept_go_f_gpt_concat', 'scgenept_go_all_gpt_concat', 'scgenept_ncbi_gpt', 'scgenept_ncbi+uniprot_gpt']\n",
        "trained_models = {}\n",
        "\n",
        "# Location of where the pretrained scGPT model and gene embeddings are located\n",
        "pretrained_scgpt_model_dir = 'scGenePT/models/'\n",
        "\n",
        "for model_name in models:\n",
        "    print(f\"Now loading a {model_name} model ... \")\n",
        "    print('=' * 30)\n",
        "    model_filename = model_name2model_variation[model_name]\n",
        "    if model_name != 'scgpt':\n",
        "        model_prefix = ''.join(model_name.split('_gpt')[:-1])\n",
        "    else:\n",
        "        model_prefix = model_name\n",
        "    model_location =  f'scGenePT/models/finetuned/{model_prefix}/{dataset_name}/{model_filename}'\n",
        "    model, gene_ids =  load_trained_scgenept_model(pert_adata, model_name, pretrained_scgpt_model_dir, model_location, device)\n",
        "    print('Done!\\n')\n",
        "    trained_models[model_name] = model"
      ]
    },
    {
      "cell_type": "markdown",
      "metadata": {
        "id": "FSyVsAnf5RaD"
      },
      "source": [
        "<a id='plot_top_20_de'></a>\n",
        "## 2. Plot the Top Differentially Expressed Genes post-perturbation\n",
        "We can use the trained models to perform inference. Below, we offer an example of how to do this on the test split of the Norman dataset - this is novel data the model has not been trained on. In the following sections we offer examples of performing inference  on completely new data, either in numpy or anndata form.\n",
        "\n",
        "We explore the following scenarios and showcase how to plot the top differentially expressed genes post-perturbation for: <br>\n",
        "• **single-gene perturbation**: predicting the effects of perturbing the POU3F2 gene and the CDKN1B gene individually. We offer examples of comparing scGPT with scGenePT_GO−C model predictions <br>\n",
        "• **two-gene perturbation**: predicting the effect of perturbing the SAMD1+ZBTB1 genes simultaneously. We offer an example of comparing scGPT and scGenePT_NCBI+UniProt model predictions"
      ]
    },
    {
      "cell_type": "code",
      "execution_count": null,
      "metadata": {
        "id": "jTbFpFBySQJP"
      },
      "outputs": [],
      "source": [
        "def plot_perturbation(\n",
        "    model: nn.Module, adata, query: str, model_type, color, marker, title, save_file: str = None, amp = True, pool_size: int = None\n",
        "):\n",
        "    import seaborn as sns\n",
        "    import numpy as np\n",
        "    import matplotlib.pyplot as plt\n",
        "\n",
        "    sns.set_theme(style=\"ticks\", rc={\"axes.facecolor\": (0, 0, 0, 0)}, font_scale=1.5)\n",
        "    adata_ctrl = adata[adata.obs['condition'] == 'ctrl']\n",
        "    gene_names = adata.var['gene_name'].to_list()\n",
        "\n",
        "    gene2idx = {gene: idx for idx, gene in enumerate(adata.var['gene_name'])}\n",
        "    cond2name = dict(adata.obs[[\"condition\", \"condition_name\"]].values)\n",
        "    gene_raw2id = dict(zip(adata.var.index.values, adata.var.gene_name.values))\n",
        "\n",
        "    de_idx = [\n",
        "        gene2idx[gene_raw2id[i]]\n",
        "        for i in adata.uns[\"top_non_zero_de_20\"][cond2name[query]]\n",
        "    ]\n",
        "    genes = [\n",
        "        gene_raw2id[i] for i in adata.uns[\"top_non_zero_de_20\"][cond2name[query]]\n",
        "    ]\n",
        "    truth = adata[adata.obs.condition == query].X.toarray()[:, de_idx]\n",
        "    print(device)\n",
        "    pred = model.pred_perturb_from_ctrl(adata_ctrl, query, gene_names, device, gene_ids, amp, pool_size).squeeze()[de_idx]\n",
        "    ctrl_means = adata[adata.obs[\"condition\"] == \"ctrl\"].to_df().mean()[de_idx].values\n",
        "\n",
        "    pred = pred - ctrl_means\n",
        "    truth = truth - ctrl_means\n",
        "\n",
        "    plt.figure(figsize=[16.5, 4.5])\n",
        "    plt.title(title + '\\n' + query)\n",
        "    plt.boxplot(truth, showfliers=False, medianprops=dict(linewidth=0))\n",
        "\n",
        "    for i in range(pred.shape[0]):\n",
        "        _ = plt.scatter(i + 1, pred[i], color=color, marker=marker)\n",
        "\n",
        "    plt.axhline(0, linestyle=\"dashed\", color=\"green\")\n",
        "\n",
        "    ax = plt.gca()\n",
        "    ax.xaxis.set_ticklabels(genes, rotation=90)\n",
        "\n",
        "    plt.ylabel(\"Change in Gene Expression over Control\", labelpad=10)\n",
        "    plt.tick_params(axis=\"x\", which=\"major\", pad=5)\n",
        "    plt.tick_params(axis=\"y\", which=\"major\", pad=5)\n",
        "    sns.despine()"
      ]
    },
    {
      "cell_type": "markdown",
      "metadata": {
        "id": "3-tipxHPSQJP"
      },
      "source": [
        "Before we perform predictions, we can explore the test split of the Norman dataset in more detail. We are interested in this split, because this is data that the model has not seen during training, so performance on this data gives us a sense of model performance on unseen data. The `pert_data.subgroup` object contains information about the set of perturbations present in each of the train/val/test splits. These subgroups represent the perturbations in the AnnData file pert_adata explored previously, that were used for training/validation or testing."
      ]
    },
    {
      "cell_type": "code",
      "source": [
        "pert_data_subgroup = pkl.load(open(f'scGenePT/tutorials/{dataset_name}_pert_data_subgroups.pkl', 'rb'))\n",
        "pert_data_subgroup.keys()"
      ],
      "metadata": {
        "id": "RfciMzBD_2gc",
        "colab": {
          "base_uri": "https://localhost:8080/"
        },
        "outputId": "e94400d0-acb0-4140-9639-d989f4611f07"
      },
      "execution_count": null,
      "outputs": [
        {
          "output_type": "execute_result",
          "data": {
            "text/plain": [
              "dict_keys(['test_subgroup', 'val_subgroup'])"
            ]
          },
          "metadata": {},
          "execution_count": 19
        }
      ]
    },
    {
      "cell_type": "markdown",
      "source": [
        "The perturbation types in the test set are split into the following categories:\n",
        "- **unseen_single**: single gene perturbations that have not been seen during training\n",
        "- **combo_seen0**: two-gene perturbations, none of the genes has been seen perturbed (individually or as part of a combination) during training\n",
        "- **combo_seen1**: two-gene perturbations, one of the genes has been seen perturbed (individually or as part of a combination) during training\n",
        "- **combo_seen2**: two-gene perturbations, both genes has been seen perturbed (individually or as part of a combination) during training"
      ],
      "metadata": {
        "id": "Vn82ywip_-Yn"
      }
    },
    {
      "cell_type": "code",
      "execution_count": null,
      "metadata": {
        "id": "EC5IvnmSSQJP",
        "colab": {
          "base_uri": "https://localhost:8080/"
        },
        "outputId": "479e9599-016b-4001-c04e-ad82ff7e4b6d"
      },
      "outputs": [
        {
          "output_type": "stream",
          "name": "stdout",
          "text": [
            "unseen_single: 37, combo_seen0: 9, combo_seen1: 52, combo_seen2: 18\n"
          ]
        }
      ],
      "source": [
        "unseen_single = pert_data_subgroup['test_subgroup']['unseen_single']\n",
        "combo_seen0 = pert_data_subgroup['test_subgroup']['combo_seen0']\n",
        "combo_seen1 = pert_data_subgroup['test_subgroup']['combo_seen1']\n",
        "combo_seen2 = pert_data_subgroup['test_subgroup']['combo_seen2']\n",
        "\n",
        "print(f'unseen_single: {len(unseen_single)}, combo_seen0: {len(combo_seen0)}, combo_seen1: {len(combo_seen1)}, combo_seen2: {len(combo_seen2)}')"
      ]
    },
    {
      "cell_type": "markdown",
      "metadata": {
        "id": "JQE8VRa4SQJP"
      },
      "source": [
        "Examples of combinations of genes where none of the genes has been seen during training:"
      ]
    },
    {
      "cell_type": "code",
      "execution_count": null,
      "metadata": {
        "id": "OOcl502DSQJP",
        "colab": {
          "base_uri": "https://localhost:8080/"
        },
        "outputId": "29c3ee2e-643c-4f34-8fe1-0b1a00ff1944"
      },
      "outputs": [
        {
          "output_type": "execute_result",
          "data": {
            "text/plain": [
              "['POU3F2+FOXL2',\n",
              " 'ZBTB10+PTPN12',\n",
              " 'CEBPB+PTPN12',\n",
              " 'CBL+PTPN12',\n",
              " 'RHOXF2BB+SET',\n",
              " 'CDKN1C+CDKN1B',\n",
              " 'CDKN1C+CDKN1A',\n",
              " 'CDKN1B+CDKN1A',\n",
              " 'C3orf72+FOXL2']"
            ]
          },
          "metadata": {},
          "execution_count": 21
        }
      ],
      "source": [
        "combo_seen0"
      ]
    },
    {
      "cell_type": "markdown",
      "metadata": {
        "id": "p5r4jpf9SQJQ"
      },
      "source": [
        "<a id='example_POU3F2+ctrl'></a>\n",
        "### Single-Gene Perturbation: Predicting perturbation response for perturbing the POU3F2 gene\n",
        "\n",
        "Then we can start exploring prediction on some of these perturbation categories. In the example below, we compare the perturbation prediction responses of scGPT and scGenePT_GO-C - scGPT + GO Cellular Components Annotations by perturbing the POU2F2 gene, which has not been seen perturbed during training by the model. We do this by sampling n = 300 random controls from the training dataset and taking the mean of the average prediction for each control. According to NCBI Gene Card https://www.ncbi.nlm.nih.gov/gene/5454, overexpression of the protein encoded by POU3F2 is associated with an increase in the proliferation of melanoma cells. We can see that the genes FABP5, HSP90AB1, PRDX1, NPM1, TMSB10, PTMA are all better predicted as having a negative fold change over control by scGenePTGO−C, compared to scGPT which predicts a non-significant effect."
      ]
    },
    {
      "cell_type": "code",
      "execution_count": null,
      "metadata": {
        "id": "tGwe3-BMSQJQ",
        "colab": {
          "base_uri": "https://localhost:8080/",
          "height": 1000
        },
        "outputId": "62ae262a-9585-4d86-e12b-f4a2a39a6312"
      },
      "outputs": [
        {
          "output_type": "stream",
          "name": "stdout",
          "text": [
            "cuda\n",
            "cuda\n"
          ]
        },
        {
          "output_type": "display_data",
          "data": {
            "text/plain": [
              "<Figure size 1650x450 with 1 Axes>"
            ],
            "image/png": "[encoded data removed]"
          },
          "metadata": {}
        },
        {
          "output_type": "display_data",
          "data": {
            "text/plain": [
              "<Figure size 1650x450 with 1 Axes>"
            ],
            "image/png": "[encoded data removed]"
          },
          "metadata": {}
        }
      ],
      "source": [
        "pert = 'POU3F2+ctrl'\n",
        "colors = ['blue', 'fuchsia']\n",
        "marker_types = [ 'o','s']\n",
        "models_to_predict = ['scgpt', 'scgenept_go_c_gpt_concat']\n",
        "\n",
        "for model, color, marker_type, title  in zip(models_to_predict, colors, marker_types, ['scGPT', 'scGenePT_GO-C']):\n",
        "    plot_perturbation(trained_models[model], pert_adata, pert, model, color, marker_type, title, amp = True, pool_size=300)"
      ]
    },
    {
      "cell_type": "markdown",
      "metadata": {
        "id": "HNTY9KqUSQJQ"
      },
      "source": [
        "We can inspect the GO Gene Annotations that were used for this gene during training. If you don't already have the GO annotations downloaded, they can be retrieved from s3 through:\n",
        "\n",
        "```\n",
        "aws s3 sync --no-sign-request s3://czi-scgenept-public/models/gene_embeddings/gene_annotations/ scGenePT/models/gene_embeddings/gene_annotations/\n",
        "```"
      ]
    },
    {
      "cell_type": "code",
      "execution_count": null,
      "metadata": {
        "id": "VO7VJOR7SQJQ"
      },
      "outputs": [],
      "source": [
        "import pandas as pd\n",
        "gene_annotations_dir = 'scGenePT/models/gene_embeddings/gene_annotations/'\n",
        "\n",
        "#GO-C Cellular Component Annotations\n",
        "GO_C_annotations_df = pd.read_csv(gene_annotations_dir + 'gene_ontology_C.csv')\n",
        "#GO-P Biological Process Annotations\n",
        "GO_P_annotations_df = pd.read_csv(gene_annotations_dir + 'gene_ontology_P.csv')\n",
        "#GO-F Molecular Function Annotations\n",
        "GO_F_annotations_df = pd.read_csv(gene_annotations_dir + 'gene_ontology_F.csv')"
      ]
    },
    {
      "cell_type": "markdown",
      "metadata": {
        "id": "yvpb1BB4SQJQ"
      },
      "source": [
        "For example, we can look at the GO-C Cellular Components annotations for the POU3F2 gene:"
      ]
    },
    {
      "cell_type": "code",
      "execution_count": null,
      "metadata": {
        "id": "PEj4g174SQJQ",
        "colab": {
          "base_uri": "https://localhost:8080/",
          "height": 143
        },
        "outputId": "6e077905-f07c-47ed-ca4e-3308a0a26ffe"
      },
      "outputs": [
        {
          "output_type": "execute_result",
          "data": {
            "text/plain": [
              "         gene                                    gene_name ontology_aspect  \\\n",
              "37738  POU3F2  POU domain, class 3, transcription factor 2               C   \n",
              "37739  POU3F2  POU domain, class 3, transcription factor 2               C   \n",
              "37740  POU3F2  POU domain, class 3, transcription factor 2               C   \n",
              "\n",
              "                    direct_class_label  \n",
              "37738                      nucleoplasm  \n",
              "37739                        chromatin  \n",
              "37740  transcription regulator complex  "
            ],
            "text/html": [
              "\n",
              "  <div id=\"df-3294298b-fa60-46be-afc7-e65fe53c5632\" class=\"colab-df-container\">\n",
              "    <div>\n",
              "<style scoped>\n",
              "    .dataframe tbody tr th:only-of-type {\n",
              "        vertical-align: middle;\n",
              "    }\n",
              "\n",
              "    .dataframe tbody tr th {\n",
              "        vertical-align: top;\n",
              "    }\n",
              "\n",
              "    .dataframe thead th {\n",
              "        text-align: right;\n",
              "    }\n",
              "</style>\n",
              "<table border=\"1\" class=\"dataframe\">\n",
              "  <thead>\n",
              "    <tr style=\"text-align: right;\">\n",
              "      <th></th>\n",
              "      <th>gene</th>\n",
              "      <th>gene_name</th>\n",
              "      <th>ontology_aspect</th>\n",
              "      <th>direct_class_label</th>\n",
              "    </tr>\n",
              "  </thead>\n",
              "  <tbody>\n",
              "    <tr>\n",
              "      <th>37738</th>\n",
              "      <td>POU3F2</td>\n",
              "      <td>POU domain, class 3, transcription factor 2</td>\n",
              "      <td>C</td>\n",
              "      <td>nucleoplasm</td>\n",
              "    </tr>\n",
              "    <tr>\n",
              "      <th>37739</th>\n",
              "      <td>POU3F2</td>\n",
              "      <td>POU domain, class 3, transcription factor 2</td>\n",
              "      <td>C</td>\n",
              "      <td>chromatin</td>\n",
              "    </tr>\n",
              "    <tr>\n",
              "      <th>37740</th>\n",
              "      <td>POU3F2</td>\n",
              "      <td>POU domain, class 3, transcription factor 2</td>\n",
              "      <td>C</td>\n",
              "      <td>transcription regulator complex</td>\n",
              "    </tr>\n",
              "  </tbody>\n",
              "</table>\n",
              "</div>\n",
              "    <div class=\"colab-df-buttons\">\n",
              "\n",
              "  <div class=\"colab-df-container\">\n",
              "    <button class=\"colab-df-convert\" onclick=\"convertToInteractive('df-3294298b-fa60-46be-afc7-e65fe53c5632')\"\n",
              "            title=\"Convert this dataframe to an interactive table.\"\n",
              "            style=\"display:none;\">\n",
              "\n",
              "  <svg xmlns=\"http://www.w3.org/2000/svg\" height=\"24px\" viewBox=\"0 -960 960 960\">\n",
              "    <path d=\"M120-120v-720h720v720H120Zm60-500h600v-160H180v160Zm220 220h160v-160H400v160Zm0 220h160v-160H400v160ZM180-400h160v-160H180v160Zm440 0h160v-160H620v160ZM180-180h160v-160H180v160Zm440 0h160v-160H620v160Z\"/>\n",
              "  </svg>\n",
              "    </button>\n",
              "\n",
              "  <style>\n",
              "    .colab-df-container {\n",
              "      display:flex;\n",
              "      gap: 12px;\n",
              "    }\n",
              "\n",
              "    .colab-df-convert {\n",
              "      background-color: #E8F0FE;\n",
              "      border: none;\n",
              "      border-radius: 50%;\n",
              "      cursor: pointer;\n",
              "      display: none;\n",
              "      fill: #1967D2;\n",
              "      height: 32px;\n",
              "      padding: 0 0 0 0;\n",
              "      width: 32px;\n",
              "    }\n",
              "\n",
              "    .colab-df-convert:hover {\n",
              "      background-color: #E2EBFA;\n",
              "      box-shadow: 0px 1px 2px rgba(60, 64, 67, 0.3), 0px 1px 3px 1px rgba(60, 64, 67, 0.15);\n",
              "      fill: #174EA6;\n",
              "    }\n",
              "\n",
              "    .colab-df-buttons div {\n",
              "      margin-bottom: 4px;\n",
              "    }\n",
              "\n",
              "    [theme=dark] .colab-df-convert {\n",
              "      background-color: #3B4455;\n",
              "      fill: #D2E3FC;\n",
              "    }\n",
              "\n",
              "    [theme=dark] .colab-df-convert:hover {\n",
              "      background-color: #434B5C;\n",
              "      box-shadow: 0px 1px 3px 1px rgba(0, 0, 0, 0.15);\n",
              "      filter: drop-shadow(0px 1px 2px rgba(0, 0, 0, 0.3));\n",
              "      fill: #FFFFFF;\n",
              "    }\n",
              "  </style>\n",
              "\n",
              "    <script>\n",
              "      const buttonEl =\n",
              "        document.querySelector('#df-3294298b-fa60-46be-afc7-e65fe53c5632 button.colab-df-convert');\n",
              "      buttonEl.style.display =\n",
              "        google.colab.kernel.accessAllowed ? 'block' : 'none';\n",
              "\n",
              "      async function convertToInteractive(key) {\n",
              "        const element = document.querySelector('#df-3294298b-fa60-46be-afc7-e65fe53c5632');\n",
              "        const dataTable =\n",
              "          await google.colab.kernel.invokeFunction('convertToInteractive',\n",
              "                                                    [key], {});\n",
              "        if (!dataTable) return;\n",
              "\n",
              "        const docLinkHtml = 'Like what you see? Visit the ' +\n",
              "          '<a target=\"_blank\" href=https://colab.research.google.com/notebooks/data_table.ipynb>data table notebook</a>'\n",
              "          + ' to learn more about interactive tables.';\n",
              "        element.innerHTML = '';\n",
              "        dataTable['output_type'] = 'display_data';\n",
              "        await google.colab.output.renderOutput(dataTable, element);\n",
              "        const docLink = document.createElement('div');\n",
              "        docLink.innerHTML = docLinkHtml;\n",
              "        element.appendChild(docLink);\n",
              "      }\n",
              "    </script>\n",
              "  </div>\n",
              "\n",
              "\n",
              "    <div id=\"df-82b071c0-8954-49d3-a216-b3a2fbf82e11\">\n",
              "      <button class=\"colab-df-quickchart\" onclick=\"quickchart('df-82b071c0-8954-49d3-a216-b3a2fbf82e11')\"\n",
              "                title=\"Suggest charts\"\n",
              "                style=\"display:none;\">\n",
              "\n",
              "<svg xmlns=\"http://www.w3.org/2000/svg\" height=\"24px\"viewBox=\"0 0 24 24\"\n",
              "     width=\"24px\">\n",
              "    <g>\n",
              "        <path d=\"M19 3H5c-1.1 0-2 .9-2 2v14c0 1.1.9 2 2 2h14c1.1 0 2-.9 2-2V5c0-1.1-.9-2-2-2zM9 17H7v-7h2v7zm4 0h-2V7h2v10zm4 0h-2v-4h2v4z\"/>\n",
              "    </g>\n",
              "</svg>\n",
              "      </button>\n",
              "\n",
              "<style>\n",
              "  .colab-df-quickchart {\n",
              "      --bg-color: #E8F0FE;\n",
              "      --fill-color: #1967D2;\n",
              "      --hover-bg-color: #E2EBFA;\n",
              "      --hover-fill-color: #174EA6;\n",
              "      --disabled-fill-color: #AAA;\n",
              "      --disabled-bg-color: #DDD;\n",
              "  }\n",
              "\n",
              "  [theme=dark] .colab-df-quickchart {\n",
              "      --bg-color: #3B4455;\n",
              "      --fill-color: #D2E3FC;\n",
              "      --hover-bg-color: #434B5C;\n",
              "      --hover-fill-color: #FFFFFF;\n",
              "      --disabled-bg-color: #3B4455;\n",
              "      --disabled-fill-color: #666;\n",
              "  }\n",
              "\n",
              "  .colab-df-quickchart {\n",
              "    background-color: var(--bg-color);\n",
              "    border: none;\n",
              "    border-radius: 50%;\n",
              "    cursor: pointer;\n",
              "    display: none;\n",
              "    fill: var(--fill-color);\n",
              "    height: 32px;\n",
              "    padding: 0;\n",
              "    width: 32px;\n",
              "  }\n",
              "\n",
              "  .colab-df-quickchart:hover {\n",
              "    background-color: var(--hover-bg-color);\n",
              "    box-shadow: 0 1px 2px rgba(60, 64, 67, 0.3), 0 1px 3px 1px rgba(60, 64, 67, 0.15);\n",
              "    fill: var(--button-hover-fill-color);\n",
              "  }\n",
              "\n",
              "  .colab-df-quickchart-complete:disabled,\n",
              "  .colab-df-quickchart-complete:disabled:hover {\n",
              "    background-color: var(--disabled-bg-color);\n",
              "    fill: var(--disabled-fill-color);\n",
              "    box-shadow: none;\n",
              "  }\n",
              "\n",
              "  .colab-df-spinner {\n",
              "    border: 2px solid var(--fill-color);\n",
              "    border-color: transparent;\n",
              "    border-bottom-color: var(--fill-color);\n",
              "    animation:\n",
              "      spin 1s steps(1) infinite;\n",
              "  }\n",
              "\n",
              "  @keyframes spin {\n",
              "    0% {\n",
              "      border-color: transparent;\n",
              "      border-bottom-color: var(--fill-color);\n",
              "      border-left-color: var(--fill-color);\n",
              "    }\n",
              "    20% {\n",
              "      border-color: transparent;\n",
              "      border-left-color: var(--fill-color);\n",
              "      border-top-color: var(--fill-color);\n",
              "    }\n",
              "    30% {\n",
              "      border-color: transparent;\n",
              "      border-left-color: var(--fill-color);\n",
              "      border-top-color: var(--fill-color);\n",
              "      border-right-color: var(--fill-color);\n",
              "    }\n",
              "    40% {\n",
              "      border-color: transparent;\n",
              "      border-right-color: var(--fill-color);\n",
              "      border-top-color: var(--fill-color);\n",
              "    }\n",
              "    60% {\n",
              "      border-color: transparent;\n",
              "      border-right-color: var(--fill-color);\n",
              "    }\n",
              "    80% {\n",
              "      border-color: transparent;\n",
              "      border-right-color: var(--fill-color);\n",
              "      border-bottom-color: var(--fill-color);\n",
              "    }\n",
              "    90% {\n",
              "      border-color: transparent;\n",
              "      border-bottom-color: var(--fill-color);\n",
              "    }\n",
              "  }\n",
              "</style>\n",
              "\n",
              "      <script>\n",
              "        async function quickchart(key) {\n",
              "          const quickchartButtonEl =\n",
              "            document.querySelector('#' + key + ' button');\n",
              "          quickchartButtonEl.disabled = true;  // To prevent multiple clicks.\n",
              "          quickchartButtonEl.classList.add('colab-df-spinner');\n",
              "          try {\n",
              "            const charts = await google.colab.kernel.invokeFunction(\n",
              "                'suggestCharts', [key], {});\n",
              "          } catch (error) {\n",
              "            console.error('Error during call to suggestCharts:', error);\n",
              "          }\n",
              "          quickchartButtonEl.classList.remove('colab-df-spinner');\n",
              "          quickchartButtonEl.classList.add('colab-df-quickchart-complete');\n",
              "        }\n",
              "        (() => {\n",
              "          let quickchartButtonEl =\n",
              "            document.querySelector('#df-82b071c0-8954-49d3-a216-b3a2fbf82e11 button');\n",
              "          quickchartButtonEl.style.display =\n",
              "            google.colab.kernel.accessAllowed ? 'block' : 'none';\n",
              "        })();\n",
              "      </script>\n",
              "    </div>\n",
              "\n",
              "    </div>\n",
              "  </div>\n"
            ],
            "application/vnd.google.colaboratory.intrinsic+json": {
              "type": "dataframe",
              "summary": "{\n  \"name\": \"GO_C_annotations_df[GO_C_annotations_df['gene'] == 'POU3F2']\",\n  \"rows\": 3,\n  \"fields\": [\n    {\n      \"column\": \"gene\",\n      \"properties\": {\n        \"dtype\": \"category\",\n        \"num_unique_values\": 1,\n        \"samples\": [\n          \"POU3F2\"\n        ],\n        \"semantic_type\": \"\",\n        \"description\": \"\"\n      }\n    },\n    {\n      \"column\": \"gene_name\",\n      \"properties\": {\n        \"dtype\": \"category\",\n        \"num_unique_values\": 1,\n        \"samples\": [\n          \"POU domain, class 3, transcription factor 2\"\n        ],\n        \"semantic_type\": \"\",\n        \"description\": \"\"\n      }\n    },\n    {\n      \"column\": \"ontology_aspect\",\n      \"properties\": {\n        \"dtype\": \"category\",\n        \"num_unique_values\": 1,\n        \"samples\": [\n          \"C\"\n        ],\n        \"semantic_type\": \"\",\n        \"description\": \"\"\n      }\n    },\n    {\n      \"column\": \"direct_class_label\",\n      \"properties\": {\n        \"dtype\": \"string\",\n        \"num_unique_values\": 3,\n        \"samples\": [\n          \"nucleoplasm\"\n        ],\n        \"semantic_type\": \"\",\n        \"description\": \"\"\n      }\n    }\n  ]\n}"
            }
          },
          "metadata": {},
          "execution_count": 24
        }
      ],
      "source": [
        "GO_C_annotations_df[GO_C_annotations_df['gene'] == 'POU3F2']"
      ]
    },
    {
      "cell_type": "markdown",
      "metadata": {
        "id": "9RrNDw7zSQJQ"
      },
      "source": [
        "By adding the GO Cellular Component annotations, the model learns that this gene is localized mostly in: nucleoplasm, chromatin and transcription regulator complex. Similarly, it learns about the subcellular localization of the other genes. Localization of gene products in the cell plays an important role in their biological function, e.g. protein-protein interaction; regulation of gene expression, transportation of protein. This tells us that subcellular localization is helpful in being able to predict effects of perturbation of this gene."
      ]
    },
    {
      "cell_type": "markdown",
      "metadata": {
        "id": "oYSss_PLSQJQ"
      },
      "source": [
        "<a id='#example_CDKN1B+ctrl'></a>\n",
        "### Single-Gene Perturbation: Predicting perturbation response for perturbing the CDKN1B gene\n",
        "We can do this analysis for other genes as well. For example, the CDKN1B gene is another gene that has not been seen perturbed during training. According to this gene’s NCBI Gene Card https://www.ncbi.nlm.nih.gov/gene/1027, mutations in this gene are associated with multiple enodcrine neoplasia type IV. We can see that scGenePTGO−C predicts HSP90AA1, PTMA, RANBP1, CKS1B, PRDX1, PHF19 and NME1 as correctly down-regulated, as opposed to scGPT which predicts either neutral effect or positive fold change. Similarly, we speculate that the model learns to incorporate cellular location information to better predict gene expression change in response to genetic perturbation."
      ]
    },
    {
      "cell_type": "code",
      "execution_count": null,
      "metadata": {
        "id": "sTOt1VR9SQJR",
        "colab": {
          "base_uri": "https://localhost:8080/",
          "height": 1000
        },
        "outputId": "7b5a476d-ec34-4260-b8e8-52c9eafa8fe2"
      },
      "outputs": [
        {
          "output_type": "stream",
          "name": "stdout",
          "text": [
            "cuda\n",
            "cuda\n"
          ]
        },
        {
          "output_type": "display_data",
          "data": {
            "text/plain": [
              "<Figure size 1650x450 with 1 Axes>"
            ],
            "image/png": "[encoded data removed]"
          },
          "metadata": {}
        },
        {
          "output_type": "display_data",
          "data": {
            "text/plain": [
              "<Figure size 1650x450 with 1 Axes>"
            ],
            "image/png": "[encoded data removed]"
          },
          "metadata": {}
        }
      ],
      "source": [
        "pert = 'CDKN1B+ctrl'\n",
        "colors = ['blue', 'red']\n",
        "marker_types = [ 'o','s']\n",
        "models_to_predict = ['scgpt', 'scgenept_go_c_gpt_concat']\n",
        "\n",
        "for model, color, marker_type, title  in zip(models_to_predict, colors, marker_types, ['scGPT', 'scGenePT_GO-C']):\n",
        "    plot_perturbation(trained_models[model], pert_adata, pert, model, color, marker_type, title, amp = True, pool_size=300)"
      ]
    },
    {
      "cell_type": "markdown",
      "metadata": {
        "id": "CXJe9pMdSQJR"
      },
      "source": [
        "We can see that the subcellular localization annotations that the model sees during training for the CDK1NB gene are:"
      ]
    },
    {
      "cell_type": "code",
      "execution_count": null,
      "metadata": {
        "id": "IF6vkTgeSQJR",
        "colab": {
          "base_uri": "https://localhost:8080/",
          "height": 269
        },
        "outputId": "58ca4d4a-5234-4d61-8c98-645254626b66"
      },
      "outputs": [
        {
          "output_type": "execute_result",
          "data": {
            "text/plain": [
              "         gene                             gene_name ontology_aspect  \\\n",
              "72395  CDKN1B  Cyclin-dependent kinase inhibitor 1B               C   \n",
              "72396  CDKN1B  Cyclin-dependent kinase inhibitor 1B               C   \n",
              "72397  CDKN1B  Cyclin-dependent kinase inhibitor 1B               C   \n",
              "72398  CDKN1B  Cyclin-dependent kinase inhibitor 1B               C   \n",
              "72399  CDKN1B  Cyclin-dependent kinase inhibitor 1B               C   \n",
              "72400  CDKN1B  Cyclin-dependent kinase inhibitor 1B               C   \n",
              "72401  CDKN1B  Cyclin-dependent kinase inhibitor 1B               C   \n",
              "\n",
              "                             direct_class_label  \n",
              "72395                                   nucleus  \n",
              "72396                               nucleoplasm  \n",
              "72397                                 cytoplasm  \n",
              "72398                                  endosome  \n",
              "72399                                   cytosol  \n",
              "72400  intracellular membrane-bounded organelle  \n",
              "72401    Cul4A-RING E3 ubiquitin ligase complex  "
            ],
            "text/html": [
              "\n",
              "  <div id=\"df-e1db98c1-a333-4164-b212-96d0f78f6929\" class=\"colab-df-container\">\n",
              "    <div>\n",
              "<style scoped>\n",
              "    .dataframe tbody tr th:only-of-type {\n",
              "        vertical-align: middle;\n",
              "    }\n",
              "\n",
              "    .dataframe tbody tr th {\n",
              "        vertical-align: top;\n",
              "    }\n",
              "\n",
              "    .dataframe thead th {\n",
              "        text-align: right;\n",
              "    }\n",
              "</style>\n",
              "<table border=\"1\" class=\"dataframe\">\n",
              "  <thead>\n",
              "    <tr style=\"text-align: right;\">\n",
              "      <th></th>\n",
              "      <th>gene</th>\n",
              "      <th>gene_name</th>\n",
              "      <th>ontology_aspect</th>\n",
              "      <th>direct_class_label</th>\n",
              "    </tr>\n",
              "  </thead>\n",
              "  <tbody>\n",
              "    <tr>\n",
              "      <th>72395</th>\n",
              "      <td>CDKN1B</td>\n",
              "      <td>Cyclin-dependent kinase inhibitor 1B</td>\n",
              "      <td>C</td>\n",
              "      <td>nucleus</td>\n",
              "    </tr>\n",
              "    <tr>\n",
              "      <th>72396</th>\n",
              "      <td>CDKN1B</td>\n",
              "      <td>Cyclin-dependent kinase inhibitor 1B</td>\n",
              "      <td>C</td>\n",
              "      <td>nucleoplasm</td>\n",
              "    </tr>\n",
              "    <tr>\n",
              "      <th>72397</th>\n",
              "      <td>CDKN1B</td>\n",
              "      <td>Cyclin-dependent kinase inhibitor 1B</td>\n",
              "      <td>C</td>\n",
              "      <td>cytoplasm</td>\n",
              "    </tr>\n",
              "    <tr>\n",
              "      <th>72398</th>\n",
              "      <td>CDKN1B</td>\n",
              "      <td>Cyclin-dependent kinase inhibitor 1B</td>\n",
              "      <td>C</td>\n",
              "      <td>endosome</td>\n",
              "    </tr>\n",
              "    <tr>\n",
              "      <th>72399</th>\n",
              "      <td>CDKN1B</td>\n",
              "      <td>Cyclin-dependent kinase inhibitor 1B</td>\n",
              "      <td>C</td>\n",
              "      <td>cytosol</td>\n",
              "    </tr>\n",
              "    <tr>\n",
              "      <th>72400</th>\n",
              "      <td>CDKN1B</td>\n",
              "      <td>Cyclin-dependent kinase inhibitor 1B</td>\n",
              "      <td>C</td>\n",
              "      <td>intracellular membrane-bounded organelle</td>\n",
              "    </tr>\n",
              "    <tr>\n",
              "      <th>72401</th>\n",
              "      <td>CDKN1B</td>\n",
              "      <td>Cyclin-dependent kinase inhibitor 1B</td>\n",
              "      <td>C</td>\n",
              "      <td>Cul4A-RING E3 ubiquitin ligase complex</td>\n",
              "    </tr>\n",
              "  </tbody>\n",
              "</table>\n",
              "</div>\n",
              "    <div class=\"colab-df-buttons\">\n",
              "\n",
              "  <div class=\"colab-df-container\">\n",
              "    <button class=\"colab-df-convert\" onclick=\"convertToInteractive('df-e1db98c1-a333-4164-b212-96d0f78f6929')\"\n",
              "            title=\"Convert this dataframe to an interactive table.\"\n",
              "            style=\"display:none;\">\n",
              "\n",
              "  <svg xmlns=\"http://www.w3.org/2000/svg\" height=\"24px\" viewBox=\"0 -960 960 960\">\n",
              "    <path d=\"M120-120v-720h720v720H120Zm60-500h600v-160H180v160Zm220 220h160v-160H400v160Zm0 220h160v-160H400v160ZM180-400h160v-160H180v160Zm440 0h160v-160H620v160ZM180-180h160v-160H180v160Zm440 0h160v-160H620v160Z\"/>\n",
              "  </svg>\n",
              "    </button>\n",
              "\n",
              "  <style>\n",
              "    .colab-df-container {\n",
              "      display:flex;\n",
              "      gap: 12px;\n",
              "    }\n",
              "\n",
              "    .colab-df-convert {\n",
              "      background-color: #E8F0FE;\n",
              "      border: none;\n",
              "      border-radius: 50%;\n",
              "      cursor: pointer;\n",
              "      display: none;\n",
              "      fill: #1967D2;\n",
              "      height: 32px;\n",
              "      padding: 0 0 0 0;\n",
              "      width: 32px;\n",
              "    }\n",
              "\n",
              "    .colab-df-convert:hover {\n",
              "      background-color: #E2EBFA;\n",
              "      box-shadow: 0px 1px 2px rgba(60, 64, 67, 0.3), 0px 1px 3px 1px rgba(60, 64, 67, 0.15);\n",
              "      fill: #174EA6;\n",
              "    }\n",
              "\n",
              "    .colab-df-buttons div {\n",
              "      margin-bottom: 4px;\n",
              "    }\n",
              "\n",
              "    [theme=dark] .colab-df-convert {\n",
              "      background-color: #3B4455;\n",
              "      fill: #D2E3FC;\n",
              "    }\n",
              "\n",
              "    [theme=dark] .colab-df-convert:hover {\n",
              "      background-color: #434B5C;\n",
              "      box-shadow: 0px 1px 3px 1px rgba(0, 0, 0, 0.15);\n",
              "      filter: drop-shadow(0px 1px 2px rgba(0, 0, 0, 0.3));\n",
              "      fill: #FFFFFF;\n",
              "    }\n",
              "  </style>\n",
              "\n",
              "    <script>\n",
              "      const buttonEl =\n",
              "        document.querySelector('#df-e1db98c1-a333-4164-b212-96d0f78f6929 button.colab-df-convert');\n",
              "      buttonEl.style.display =\n",
              "        google.colab.kernel.accessAllowed ? 'block' : 'none';\n",
              "\n",
              "      async function convertToInteractive(key) {\n",
              "        const element = document.querySelector('#df-e1db98c1-a333-4164-b212-96d0f78f6929');\n",
              "        const dataTable =\n",
              "          await google.colab.kernel.invokeFunction('convertToInteractive',\n",
              "                                                    [key], {});\n",
              "        if (!dataTable) return;\n",
              "\n",
              "        const docLinkHtml = 'Like what you see? Visit the ' +\n",
              "          '<a target=\"_blank\" href=https://colab.research.google.com/notebooks/data_table.ipynb>data table notebook</a>'\n",
              "          + ' to learn more about interactive tables.';\n",
              "        element.innerHTML = '';\n",
              "        dataTable['output_type'] = 'display_data';\n",
              "        await google.colab.output.renderOutput(dataTable, element);\n",
              "        const docLink = document.createElement('div');\n",
              "        docLink.innerHTML = docLinkHtml;\n",
              "        element.appendChild(docLink);\n",
              "      }\n",
              "    </script>\n",
              "  </div>\n",
              "\n",
              "\n",
              "    <div id=\"df-4af02322-bde6-410d-87d0-975bf9596447\">\n",
              "      <button class=\"colab-df-quickchart\" onclick=\"quickchart('df-4af02322-bde6-410d-87d0-975bf9596447')\"\n",
              "                title=\"Suggest charts\"\n",
              "                style=\"display:none;\">\n",
              "\n",
              "<svg xmlns=\"http://www.w3.org/2000/svg\" height=\"24px\"viewBox=\"0 0 24 24\"\n",
              "     width=\"24px\">\n",
              "    <g>\n",
              "        <path d=\"M19 3H5c-1.1 0-2 .9-2 2v14c0 1.1.9 2 2 2h14c1.1 0 2-.9 2-2V5c0-1.1-.9-2-2-2zM9 17H7v-7h2v7zm4 0h-2V7h2v10zm4 0h-2v-4h2v4z\"/>\n",
              "    </g>\n",
              "</svg>\n",
              "      </button>\n",
              "\n",
              "<style>\n",
              "  .colab-df-quickchart {\n",
              "      --bg-color: #E8F0FE;\n",
              "      --fill-color: #1967D2;\n",
              "      --hover-bg-color: #E2EBFA;\n",
              "      --hover-fill-color: #174EA6;\n",
              "      --disabled-fill-color: #AAA;\n",
              "      --disabled-bg-color: #DDD;\n",
              "  }\n",
              "\n",
              "  [theme=dark] .colab-df-quickchart {\n",
              "      --bg-color: #3B4455;\n",
              "      --fill-color: #D2E3FC;\n",
              "      --hover-bg-color: #434B5C;\n",
              "      --hover-fill-color: #FFFFFF;\n",
              "      --disabled-bg-color: #3B4455;\n",
              "      --disabled-fill-color: #666;\n",
              "  }\n",
              "\n",
              "  .colab-df-quickchart {\n",
              "    background-color: var(--bg-color);\n",
              "    border: none;\n",
              "    border-radius: 50%;\n",
              "    cursor: pointer;\n",
              "    display: none;\n",
              "    fill: var(--fill-color);\n",
              "    height: 32px;\n",
              "    padding: 0;\n",
              "    width: 32px;\n",
              "  }\n",
              "\n",
              "  .colab-df-quickchart:hover {\n",
              "    background-color: var(--hover-bg-color);\n",
              "    box-shadow: 0 1px 2px rgba(60, 64, 67, 0.3), 0 1px 3px 1px rgba(60, 64, 67, 0.15);\n",
              "    fill: var(--button-hover-fill-color);\n",
              "  }\n",
              "\n",
              "  .colab-df-quickchart-complete:disabled,\n",
              "  .colab-df-quickchart-complete:disabled:hover {\n",
              "    background-color: var(--disabled-bg-color);\n",
              "    fill: var(--disabled-fill-color);\n",
              "    box-shadow: none;\n",
              "  }\n",
              "\n",
              "  .colab-df-spinner {\n",
              "    border: 2px solid var(--fill-color);\n",
              "    border-color: transparent;\n",
              "    border-bottom-color: var(--fill-color);\n",
              "    animation:\n",
              "      spin 1s steps(1) infinite;\n",
              "  }\n",
              "\n",
              "  @keyframes spin {\n",
              "    0% {\n",
              "      border-color: transparent;\n",
              "      border-bottom-color: var(--fill-color);\n",
              "      border-left-color: var(--fill-color);\n",
              "    }\n",
              "    20% {\n",
              "      border-color: transparent;\n",
              "      border-left-color: var(--fill-color);\n",
              "      border-top-color: var(--fill-color);\n",
              "    }\n",
              "    30% {\n",
              "      border-color: transparent;\n",
              "      border-left-color: var(--fill-color);\n",
              "      border-top-color: var(--fill-color);\n",
              "      border-right-color: var(--fill-color);\n",
              "    }\n",
              "    40% {\n",
              "      border-color: transparent;\n",
              "      border-right-color: var(--fill-color);\n",
              "      border-top-color: var(--fill-color);\n",
              "    }\n",
              "    60% {\n",
              "      border-color: transparent;\n",
              "      border-right-color: var(--fill-color);\n",
              "    }\n",
              "    80% {\n",
              "      border-color: transparent;\n",
              "      border-right-color: var(--fill-color);\n",
              "      border-bottom-color: var(--fill-color);\n",
              "    }\n",
              "    90% {\n",
              "      border-color: transparent;\n",
              "      border-bottom-color: var(--fill-color);\n",
              "    }\n",
              "  }\n",
              "</style>\n",
              "\n",
              "      <script>\n",
              "        async function quickchart(key) {\n",
              "          const quickchartButtonEl =\n",
              "            document.querySelector('#' + key + ' button');\n",
              "          quickchartButtonEl.disabled = true;  // To prevent multiple clicks.\n",
              "          quickchartButtonEl.classList.add('colab-df-spinner');\n",
              "          try {\n",
              "            const charts = await google.colab.kernel.invokeFunction(\n",
              "                'suggestCharts', [key], {});\n",
              "          } catch (error) {\n",
              "            console.error('Error during call to suggestCharts:', error);\n",
              "          }\n",
              "          quickchartButtonEl.classList.remove('colab-df-spinner');\n",
              "          quickchartButtonEl.classList.add('colab-df-quickchart-complete');\n",
              "        }\n",
              "        (() => {\n",
              "          let quickchartButtonEl =\n",
              "            document.querySelector('#df-4af02322-bde6-410d-87d0-975bf9596447 button');\n",
              "          quickchartButtonEl.style.display =\n",
              "            google.colab.kernel.accessAllowed ? 'block' : 'none';\n",
              "        })();\n",
              "      </script>\n",
              "    </div>\n",
              "\n",
              "    </div>\n",
              "  </div>\n"
            ],
            "application/vnd.google.colaboratory.intrinsic+json": {
              "type": "dataframe",
              "summary": "{\n  \"name\": \"GO_C_annotations_df[GO_C_annotations_df['gene'] == 'CDKN1B']\",\n  \"rows\": 7,\n  \"fields\": [\n    {\n      \"column\": \"gene\",\n      \"properties\": {\n        \"dtype\": \"category\",\n        \"num_unique_values\": 1,\n        \"samples\": [\n          \"CDKN1B\"\n        ],\n        \"semantic_type\": \"\",\n        \"description\": \"\"\n      }\n    },\n    {\n      \"column\": \"gene_name\",\n      \"properties\": {\n        \"dtype\": \"category\",\n        \"num_unique_values\": 1,\n        \"samples\": [\n          \"Cyclin-dependent kinase inhibitor 1B\"\n        ],\n        \"semantic_type\": \"\",\n        \"description\": \"\"\n      }\n    },\n    {\n      \"column\": \"ontology_aspect\",\n      \"properties\": {\n        \"dtype\": \"category\",\n        \"num_unique_values\": 1,\n        \"samples\": [\n          \"C\"\n        ],\n        \"semantic_type\": \"\",\n        \"description\": \"\"\n      }\n    },\n    {\n      \"column\": \"direct_class_label\",\n      \"properties\": {\n        \"dtype\": \"string\",\n        \"num_unique_values\": 7,\n        \"samples\": [\n          \"nucleus\"\n        ],\n        \"semantic_type\": \"\",\n        \"description\": \"\"\n      }\n    }\n  ]\n}"
            }
          },
          "metadata": {},
          "execution_count": 26
        }
      ],
      "source": [
        "GO_C_annotations_df[GO_C_annotations_df['gene'] == 'CDKN1B']"
      ]
    },
    {
      "cell_type": "markdown",
      "metadata": {
        "id": "YPkEOhemSQJR"
      },
      "source": [
        "We speculate that having access to this information during training is helping the model make better predictions on the effect of perturbing this gene."
      ]
    },
    {
      "cell_type": "markdown",
      "metadata": {
        "id": "NNrnKKPdSQJR"
      },
      "source": [
        "<a id='#example_SAMD1+ZBTB1'></a>\n",
        "### Two-gene Perturbation: Predicting perturbation response for perturbing the gene combination FOXA1+FOXL2\n",
        "\n",
        "We can also look at effects of combination of genes. Below, we offer an example of predicting perturbation responses for the FOXA1+FOXL2 gene combination.\n",
        "Note that you can experiment with different gene combinations in **combo_seen0, combo_seen1**, or **combo_seen2**"
      ]
    },
    {
      "cell_type": "code",
      "execution_count": null,
      "metadata": {
        "id": "LpY3o9nxSQJR",
        "colab": {
          "base_uri": "https://localhost:8080/",
          "height": 1000
        },
        "outputId": "c6da75e8-609d-4d97-dadb-6f101500b252"
      },
      "outputs": [
        {
          "output_type": "stream",
          "name": "stdout",
          "text": [
            "cuda\n",
            "cuda\n"
          ]
        },
        {
          "output_type": "display_data",
          "data": {
            "text/plain": [
              "<Figure size 1650x450 with 1 Axes>"
            ],
            "image/png": "[encoded data removed]"
          },
          "metadata": {}
        },
        {
          "output_type": "display_data",
          "data": {
            "text/plain": [
              "<Figure size 1650x450 with 1 Axes>"
            ],
            "image/png": "[encoded data removed]"
          },
          "metadata": {}
        }
      ],
      "source": [
        "pert = 'FOXA1+FOXL2'\n",
        "colors = ['blue', 'green']\n",
        "marker_types = [ 'o', 's', 's']\n",
        "models_to_predict = ['scgpt', 'scgenept_ncbi+uniprot_gpt']\n",
        "\n",
        "for model, color, marker_type, title  in zip(models_to_predict, colors, marker_types, ['scGPT', 'scGenePT_NCBI+UniProt']):\n",
        "    plot_perturbation(trained_models[model], pert_adata, pert, model, color, marker_type, title, amp = True, pool_size=300)"
      ]
    },
    {
      "cell_type": "markdown",
      "metadata": {
        "id": "uoFP3ZJbSQJV"
      },
      "source": [
        "Similarly, we can look at the NCBI and UniProt annotations for the genes:"
      ]
    },
    {
      "cell_type": "code",
      "execution_count": null,
      "metadata": {
        "id": "BUBDjplBSQJV",
        "colab": {
          "base_uri": "https://localhost:8080/"
        },
        "outputId": "2307b0c0-bcfe-4e06-eac1-6a646b2ba623"
      },
      "outputs": [
        {
          "output_type": "stream",
          "name": "stdout",
          "text": [
            "Annotations for GENE: FOXA1\n",
            "==============================\n",
            "NCBI Gene Card Summary: Gene Symbol FOXA1 This gene encodes a member of the forkhead class of DNA-binding proteins. These hepatocyte nuclear factors are transcriptional activators for liver-specific transcripts such as albumin and transthyretin, and they also interact with chromatin. Similar family members in mice have roles in the regulation of metabolism and in the differentiation of the pancreas and liver.\n",
            "\n",
            "\n",
            "NCBI Gene Card + UniProt Protein Summary: Gene Symbol FOXA1 This gene encodes a member of the forkhead class of DNA-binding proteins. These hepatocyte nuclear factors are transcriptional activators for liver-specific transcripts such as albumin and transthyretin, and they also interact with chromatin. Similar family members in mice have roles in the regulation of metabolism and in the differentiation of the pancreas and liver. Protein summary: Transcription factor that is involved in embryonic development, establishment of tissue-specific gene expression and regulation of gene expression in differentiated tissues. Is thought to act as a 'pioneer' factor opening the compacted chromatin for other proteins through interactions with nucleosomal core histones and thereby replacing linker histones at target enhancer and/or promoter sites. Binds DNA with the consensus sequence 5'-[AC]A[AT]T[AG]TT[GT][AG][CT]T[CT]-3' (By similarity). Proposed to play a role in translating the epigenetic signatures into cell type-specific enhancer-driven transcriptional programs. Its differential recruitment to chromatin is dependent on distribution of histone H3 methylated at 'Lys-5' (H3K4me2) in estrogen-regulated genes. Involved in the development of multiple endoderm-derived organ systems such as liver, pancreas, lung and prostate; FOXA1 and FOXA2 seem to have at least in part redundant roles (By similarity). Modulates the transcriptional activity of nuclear hormone receptors. Is involved in ESR1-mediated transcription; required for ESR1 binding to the NKX2-1 promoter in breast cancer cells; binds to the RPRM promoter and is required for the estrogen-induced repression of RPRM. Involved in regulation of apoptosis by inhibiting the expression of BCL2. Involved in cell cycle regulation by activating expression of CDKN1B, alone or in conjunction with BRCA1. Originally described as a transcription activator for a number of liver genes such as AFP, albumin, tyrosine aminotransferase, PEPCK, etc. Interacts with the cis-acting regulatory regions of these genes. Involved in glucose homeostasis\n",
            "\n",
            "\n",
            "Annotations for GENE: FOXL2\n",
            "==============================\n",
            "NCBI Gene Card Summary: Gene Symbol FOXL2 This gene encodes a forkhead transcription factor. The protein contains a fork-head DNA-binding domain and may play a role in ovarian development and function. Expansion of a polyalanine repeat region and other mutations in this gene are a cause of blepharophimosis syndrome and premature ovarian failure 3.\n",
            "\n",
            "\n",
            "NCBI Gene Card + UniProt Protein Summary: Gene Symbol FOXL2 This gene encodes a forkhead transcription factor. The protein contains a fork-head DNA-binding domain and may play a role in ovarian development and function. Expansion of a polyalanine repeat region and other mutations in this gene are a cause of blepharophimosis syndrome and premature ovarian failure 3. Protein summary: Transcriptional regulator. Critical factor essential for ovary differentiation and maintenance, and repression of the genetic program for somatic testis determination. Prevents trans-differentiation of ovary to testis through transcriptional repression of the Sertoli cell-promoting gene SOX9 (By similarity). Has apoptotic activity in ovarian cells. Suppresses ESR1-mediated transcription of PTGS2/COX2 stimulated by tamoxifen (By similarity). Is a regulator of CYP19 expression (By similarity). Participates in SMAD3-dependent transcription of FST via the intronic SMAD-binding element (By similarity). Is a transcriptional repressor of STAR. Activates SIRT1 transcription under cellular stress conditions. Activates transcription of OSR2\n",
            "\n",
            "\n"
          ]
        }
      ],
      "source": [
        "# NCBI Gene Card Annotations\n",
        "NCBI_gene_card_summaries = json.load(open(gene_annotations_dir + 'NCBI_summary_of_genes.json', 'rb'))\n",
        "# NCBI Gene Card + UniProt protein summaries Annotations\n",
        "NCBI_UniProt_gene_card_protein_summaries = json.load(open(gene_annotations_dir + 'NCBI_UniProt_summary_of_genes.json', 'rb'))\n",
        "\n",
        "comb_genes = pert.split('+')\n",
        "for gene in comb_genes:\n",
        "    print(f\"Annotations for GENE: {gene}\")\n",
        "    print('='*30)\n",
        "    print(f\"NCBI Gene Card Summary: {NCBI_gene_card_summaries[gene]}\")\n",
        "    print('\\n')\n",
        "    print(f\"NCBI Gene Card + UniProt Protein Summary: {NCBI_UniProt_gene_card_protein_summaries[gene]}\")\n",
        "    print('\\n')"
      ]
    },
    {
      "cell_type": "markdown",
      "metadata": {
        "id": "A_o-k_kuSQJV"
      },
      "source": [
        "<a id='predicting_on_rnd_ctrl'></a>\n",
        "## 3. Predicting on numpy arrays holding control samples\n",
        "\n",
        "We can make predictions on various data formats. Let's say we have a control sample held in a `NumPy array`. We can use one of the trained models to make predictions. Similarly as before, first we need to load the trained model:"
      ]
    },
    {
      "cell_type": "code",
      "execution_count": null,
      "metadata": {
        "id": "L5Qo8HGxSQJV",
        "colab": {
          "base_uri": "https://localhost:8080/"
        },
        "outputId": "0dd79e2e-c50f-4653-eeff-718bd6e23b12"
      },
      "outputs": [
        {
          "output_type": "stream",
          "name": "stdout",
          "text": [
            "scGenePT model-type: scgenept_go_c_gpt_concat\n",
            "match 4547/5045 genes in vocabulary of size 60697.\n",
            "Using c GO embs\n",
            "Matched 2945 out of 5045 genes in the GenePT-w embedding\n",
            "Using the following embeddings:['GO_token_embs_gpt_concat', 'scGPT_counts_embs', 'scGPT_token_embs']\n"
          ]
        }
      ],
      "source": [
        "model_name = 'scgenept_go_c_gpt_concat'\n",
        "dataset_name = 'norman'\n",
        "pert_adata = sc.read_h5ad(f'scGenePT/tutorials/{dataset_name}_pert_data_adata.h5ad')\n",
        "\n",
        "model_filename = model_name2model_variation[model_name]\n",
        "model_location =  f'scGenePT/models/finetuned/scgenept_go_c/{dataset_name}/{model_filename}'\n",
        "model, gene_ids =  load_trained_scgenept_model(pert_adata, model_name, pretrained_scgpt_model_dir, model_location, device, verbose = False)"
      ]
    },
    {
      "cell_type": "code",
      "execution_count": null,
      "metadata": {
        "id": "BlPKB_wTSQJV",
        "colab": {
          "base_uri": "https://localhost:8080/"
        },
        "outputId": "11fa2aa4-25c1-4bed-da20-1e0604fe78bf"
      },
      "outputs": [
        {
          "output_type": "stream",
          "name": "stdout",
          "text": [
            "There are 5045 genes, the first 10 are: ['RP11-34P13.8', 'RP11-54O7.3', 'SAMD11', 'PERM1', 'HES4', 'ISG15', 'RP11-54O7.18', 'RNF223', 'LINC01342', 'TTLL10-AS1']\n"
          ]
        }
      ],
      "source": [
        "gene_names = pert_adata.var['gene_name'].to_list()\n",
        "print(f'There are {len(gene_names)} genes, the first 10 are: {gene_names[:10]}')"
      ]
    },
    {
      "cell_type": "markdown",
      "metadata": {
        "id": "V21NjMErSQJV"
      },
      "source": [
        "Let's say we want to predict the effect of perturbing the **FOSB** gene."
      ]
    },
    {
      "cell_type": "code",
      "execution_count": null,
      "metadata": {
        "id": "Dk6iGDfXSQJV"
      },
      "outputs": [],
      "source": [
        "# this can be replaced with another gene\n",
        "pert = \"FOSB+ctrl\"\n",
        "\n",
        "# the order of the genes in ctrl_sample also has to match that of gene_names\n",
        "ctrl_sample = np.random.rand(5045)"
      ]
    },
    {
      "cell_type": "markdown",
      "metadata": {
        "id": "iqROAFHzSQJV"
      },
      "source": [
        "Then we need to assign the correct perturbation flags in the control sequence, so that the model knows what gene should get perturbed"
      ]
    },
    {
      "cell_type": "code",
      "execution_count": null,
      "metadata": {
        "id": "qHj-3aGmSQJW"
      },
      "outputs": [],
      "source": [
        "def get_pert_flags(ctrl_sample, gene_names, pert):\n",
        "    pert_flags = np.zeros(len(ctrl_sample))\n",
        "    if pert!= 'ctrl':\n",
        "        for x in pert.split('+'):\n",
        "            if x != 'ctrl':\n",
        "                pert_flags[gene_names.index(x)] = 1\n",
        "    pert_flags = torch.from_numpy(pert_flags).long().to(device).unsqueeze(0)\n",
        "    return pert_flags\n",
        "\n",
        "pert_flags = get_pert_flags(ctrl_sample, gene_names, pert)"
      ]
    },
    {
      "cell_type": "markdown",
      "metadata": {
        "id": "4wTTkcLQSQJW"
      },
      "source": [
        "Now we can get the model predictions by calling the model in inference mode:"
      ]
    },
    {
      "cell_type": "code",
      "execution_count": null,
      "metadata": {
        "id": "fqS_EG8RSQJW"
      },
      "outputs": [],
      "source": [
        "def pred_ctrl_sample(model, gene_ids, ctrl_sample, pert_flags, device):\n",
        "    ctrl_sample = torch.from_numpy(np.expand_dims(ctrl_sample, 0)).to(dtype = torch.float32).to(device)\n",
        "    gene_ids_tensor = torch.tensor(gene_ids).long().unsqueeze(0).to(device)\n",
        "    src_key_padding_mask = torch.zeros_like(gene_ids_tensor, dtype=torch.bool, device=device)\n",
        "    model = model.to(torch.float32)\n",
        "    with torch.cuda.amp.autocast(enabled=True):\n",
        "        with torch.no_grad():\n",
        "            output_dict = model(\n",
        "                gene_ids_tensor,\n",
        "                ctrl_sample,\n",
        "                pert_flags,\n",
        "                src_key_padding_mask=src_key_padding_mask,\n",
        "                CLS=False,\n",
        "                CCE=False,\n",
        "                MVC=False,\n",
        "                ECS=False,\n",
        "                do_sample=True,\n",
        "            )\n",
        "    prediction = output_dict[\"mlm_output\"].float().detach().cpu().numpy()\n",
        "    return prediction"
      ]
    },
    {
      "cell_type": "code",
      "execution_count": null,
      "metadata": {
        "id": "MfpTAhHySQJW"
      },
      "outputs": [],
      "source": [
        "preds = pred_ctrl_sample(model, gene_ids, ctrl_sample, pert_flags, device)"
      ]
    },
    {
      "cell_type": "code",
      "execution_count": null,
      "metadata": {
        "id": "AIzB48uDSQJW",
        "colab": {
          "base_uri": "https://localhost:8080/"
        },
        "outputId": "49a0ccdf-5a93-4675-87e1-d3e321c6f8ee"
      },
      "outputs": [
        {
          "output_type": "execute_result",
          "data": {
            "text/plain": [
              "array([[-1.9140244e-03,  3.4594727e-01,  4.7531128e-03, ...,\n",
              "         3.8828125e+00,  2.9003906e-01,  1.0223389e-02]], dtype=float32)"
            ]
          },
          "metadata": {},
          "execution_count": 35
        }
      ],
      "source": [
        "preds"
      ]
    },
    {
      "cell_type": "code",
      "execution_count": null,
      "metadata": {
        "id": "6hrVwzh-SQJW",
        "colab": {
          "base_uri": "https://localhost:8080/"
        },
        "outputId": "54ef8001-48ec-4187-c99c-b6661f6666d4"
      },
      "outputs": [
        {
          "output_type": "execute_result",
          "data": {
            "text/plain": [
              "(1, 5045)"
            ]
          },
          "metadata": {},
          "execution_count": 36
        }
      ],
      "source": [
        "preds.shape"
      ]
    },
    {
      "cell_type": "markdown",
      "metadata": {
        "id": "DrzVCVSJSQJW"
      },
      "source": [
        "<a id='prediction_on_new_anndata_file'></a>\n",
        "## 4. Predicting on AnnData files\n",
        "We can follow a similar sequence to predict on an `AnnData` file. In the example below, you can replace the `adata_ctrl` file with your file of choice:"
      ]
    },
    {
      "cell_type": "code",
      "execution_count": null,
      "metadata": {
        "id": "vSTLrPJOSQJW",
        "colab": {
          "base_uri": "https://localhost:8080/"
        },
        "outputId": "9a70a340-5cfe-4e7f-85d6-5be95a279218"
      },
      "outputs": [
        {
          "output_type": "execute_result",
          "data": {
            "text/plain": [
              "View of AnnData object with n_obs × n_vars = 100 × 5045\n",
              "    obs: 'condition', 'cell_type', 'dose_val', 'control', 'condition_name'\n",
              "    var: 'gene_name', 'id_in_vocab'\n",
              "    uns: 'non_dropout_gene_idx', 'non_zeros_gene_idx', 'rank_genes_groups_cov_all', 'top_non_dropout_de_20', 'top_non_zero_de_20'\n",
              "    layers: 'counts'"
            ]
          },
          "metadata": {},
          "execution_count": 37
        }
      ],
      "source": [
        "adata_ctrl = pert_adata[pert_adata.obs['condition'] == 'ctrl'][:100] # this can be any other AnnData file\n",
        "adata_ctrl"
      ]
    },
    {
      "cell_type": "markdown",
      "metadata": {
        "id": "I3Ap0A98SQJW"
      },
      "source": [
        "The set and order of the genes in the AnnData file has to match that of the genes the model has been trained on. In most cases, this will mean filtering the data to match this. The 5045 genes used by the model are:"
      ]
    },
    {
      "cell_type": "code",
      "execution_count": null,
      "metadata": {
        "id": "C7FHp5x9SQJX",
        "colab": {
          "base_uri": "https://localhost:8080/",
          "height": 455
        },
        "outputId": "2e522eac-c45d-4190-a6d2-ab667a7f97bd"
      },
      "outputs": [
        {
          "output_type": "execute_result",
          "data": {
            "text/plain": [
              "                    gene_name  id_in_vocab\n",
              "gene_id                                   \n",
              "ENSG00000239945  RP11-34P13.8            1\n",
              "ENSG00000223764   RP11-54O7.3           -1\n",
              "ENSG00000187634        SAMD11            1\n",
              "ENSG00000187642         PERM1            1\n",
              "ENSG00000188290          HES4            1\n",
              "...                       ...          ...\n",
              "ENSG00000198786        MT-ND5            1\n",
              "ENSG00000198695        MT-ND6            1\n",
              "ENSG00000198727        MT-CYB            1\n",
              "ENSG00000273554    AC136616.1           -1\n",
              "ENSG00000278633    AC023491.2           -1\n",
              "\n",
              "[5045 rows x 2 columns]"
            ],
            "text/html": [
              "\n",
              "  <div id=\"df-631603eb-a41b-4d26-9fe6-ecd93c0c1fb2\" class=\"colab-df-container\">\n",
              "    <div>\n",
              "<style scoped>\n",
              "    .dataframe tbody tr th:only-of-type {\n",
              "        vertical-align: middle;\n",
              "    }\n",
              "\n",
              "    .dataframe tbody tr th {\n",
              "        vertical-align: top;\n",
              "    }\n",
              "\n",
              "    .dataframe thead th {\n",
              "        text-align: right;\n",
              "    }\n",
              "</style>\n",
              "<table border=\"1\" class=\"dataframe\">\n",
              "  <thead>\n",
              "    <tr style=\"text-align: right;\">\n",
              "      <th></th>\n",
              "      <th>gene_name</th>\n",
              "      <th>id_in_vocab</th>\n",
              "    </tr>\n",
              "    <tr>\n",
              "      <th>gene_id</th>\n",
              "      <th></th>\n",
              "      <th></th>\n",
              "    </tr>\n",
              "  </thead>\n",
              "  <tbody>\n",
              "    <tr>\n",
              "      <th>ENSG00000239945</th>\n",
              "      <td>RP11-34P13.8</td>\n",
              "      <td>1</td>\n",
              "    </tr>\n",
              "    <tr>\n",
              "      <th>ENSG00000223764</th>\n",
              "      <td>RP11-54O7.3</td>\n",
              "      <td>-1</td>\n",
              "    </tr>\n",
              "    <tr>\n",
              "      <th>ENSG00000187634</th>\n",
              "      <td>SAMD11</td>\n",
              "      <td>1</td>\n",
              "    </tr>\n",
              "    <tr>\n",
              "      <th>ENSG00000187642</th>\n",
              "      <td>PERM1</td>\n",
              "      <td>1</td>\n",
              "    </tr>\n",
              "    <tr>\n",
              "      <th>ENSG00000188290</th>\n",
              "      <td>HES4</td>\n",
              "      <td>1</td>\n",
              "    </tr>\n",
              "    <tr>\n",
              "      <th>...</th>\n",
              "      <td>...</td>\n",
              "      <td>...</td>\n",
              "    </tr>\n",
              "    <tr>\n",
              "      <th>ENSG00000198786</th>\n",
              "      <td>MT-ND5</td>\n",
              "      <td>1</td>\n",
              "    </tr>\n",
              "    <tr>\n",
              "      <th>ENSG00000198695</th>\n",
              "      <td>MT-ND6</td>\n",
              "      <td>1</td>\n",
              "    </tr>\n",
              "    <tr>\n",
              "      <th>ENSG00000198727</th>\n",
              "      <td>MT-CYB</td>\n",
              "      <td>1</td>\n",
              "    </tr>\n",
              "    <tr>\n",
              "      <th>ENSG00000273554</th>\n",
              "      <td>AC136616.1</td>\n",
              "      <td>-1</td>\n",
              "    </tr>\n",
              "    <tr>\n",
              "      <th>ENSG00000278633</th>\n",
              "      <td>AC023491.2</td>\n",
              "      <td>-1</td>\n",
              "    </tr>\n",
              "  </tbody>\n",
              "</table>\n",
              "<p>5045 rows × 2 columns</p>\n",
              "</div>\n",
              "    <div class=\"colab-df-buttons\">\n",
              "\n",
              "  <div class=\"colab-df-container\">\n",
              "    <button class=\"colab-df-convert\" onclick=\"convertToInteractive('df-631603eb-a41b-4d26-9fe6-ecd93c0c1fb2')\"\n",
              "            title=\"Convert this dataframe to an interactive table.\"\n",
              "            style=\"display:none;\">\n",
              "\n",
              "  <svg xmlns=\"http://www.w3.org/2000/svg\" height=\"24px\" viewBox=\"0 -960 960 960\">\n",
              "    <path d=\"M120-120v-720h720v720H120Zm60-500h600v-160H180v160Zm220 220h160v-160H400v160Zm0 220h160v-160H400v160ZM180-400h160v-160H180v160Zm440 0h160v-160H620v160ZM180-180h160v-160H180v160Zm440 0h160v-160H620v160Z\"/>\n",
              "  </svg>\n",
              "    </button>\n",
              "\n",
              "  <style>\n",
              "    .colab-df-container {\n",
              "      display:flex;\n",
              "      gap: 12px;\n",
              "    }\n",
              "\n",
              "    .colab-df-convert {\n",
              "      background-color: #E8F0FE;\n",
              "      border: none;\n",
              "      border-radius: 50%;\n",
              "      cursor: pointer;\n",
              "      display: none;\n",
              "      fill: #1967D2;\n",
              "      height: 32px;\n",
              "      padding: 0 0 0 0;\n",
              "      width: 32px;\n",
              "    }\n",
              "\n",
              "    .colab-df-convert:hover {\n",
              "      background-color: #E2EBFA;\n",
              "      box-shadow: 0px 1px 2px rgba(60, 64, 67, 0.3), 0px 1px 3px 1px rgba(60, 64, 67, 0.15);\n",
              "      fill: #174EA6;\n",
              "    }\n",
              "\n",
              "    .colab-df-buttons div {\n",
              "      margin-bottom: 4px;\n",
              "    }\n",
              "\n",
              "    [theme=dark] .colab-df-convert {\n",
              "      background-color: #3B4455;\n",
              "      fill: #D2E3FC;\n",
              "    }\n",
              "\n",
              "    [theme=dark] .colab-df-convert:hover {\n",
              "      background-color: #434B5C;\n",
              "      box-shadow: 0px 1px 3px 1px rgba(0, 0, 0, 0.15);\n",
              "      filter: drop-shadow(0px 1px 2px rgba(0, 0, 0, 0.3));\n",
              "      fill: #FFFFFF;\n",
              "    }\n",
              "  </style>\n",
              "\n",
              "    <script>\n",
              "      const buttonEl =\n",
              "        document.querySelector('#df-631603eb-a41b-4d26-9fe6-ecd93c0c1fb2 button.colab-df-convert');\n",
              "      buttonEl.style.display =\n",
              "        google.colab.kernel.accessAllowed ? 'block' : 'none';\n",
              "\n",
              "      async function convertToInteractive(key) {\n",
              "        const element = document.querySelector('#df-631603eb-a41b-4d26-9fe6-ecd93c0c1fb2');\n",
              "        const dataTable =\n",
              "          await google.colab.kernel.invokeFunction('convertToInteractive',\n",
              "                                                    [key], {});\n",
              "        if (!dataTable) return;\n",
              "\n",
              "        const docLinkHtml = 'Like what you see? Visit the ' +\n",
              "          '<a target=\"_blank\" href=https://colab.research.google.com/notebooks/data_table.ipynb>data table notebook</a>'\n",
              "          + ' to learn more about interactive tables.';\n",
              "        element.innerHTML = '';\n",
              "        dataTable['output_type'] = 'display_data';\n",
              "        await google.colab.output.renderOutput(dataTable, element);\n",
              "        const docLink = document.createElement('div');\n",
              "        docLink.innerHTML = docLinkHtml;\n",
              "        element.appendChild(docLink);\n",
              "      }\n",
              "    </script>\n",
              "  </div>\n",
              "\n",
              "\n",
              "    <div id=\"df-0ece2328-9311-4c8e-8bb1-6d6374f89cd3\">\n",
              "      <button class=\"colab-df-quickchart\" onclick=\"quickchart('df-0ece2328-9311-4c8e-8bb1-6d6374f89cd3')\"\n",
              "                title=\"Suggest charts\"\n",
              "                style=\"display:none;\">\n",
              "\n",
              "<svg xmlns=\"http://www.w3.org/2000/svg\" height=\"24px\"viewBox=\"0 0 24 24\"\n",
              "     width=\"24px\">\n",
              "    <g>\n",
              "        <path d=\"M19 3H5c-1.1 0-2 .9-2 2v14c0 1.1.9 2 2 2h14c1.1 0 2-.9 2-2V5c0-1.1-.9-2-2-2zM9 17H7v-7h2v7zm4 0h-2V7h2v10zm4 0h-2v-4h2v4z\"/>\n",
              "    </g>\n",
              "</svg>\n",
              "      </button>\n",
              "\n",
              "<style>\n",
              "  .colab-df-quickchart {\n",
              "      --bg-color: #E8F0FE;\n",
              "      --fill-color: #1967D2;\n",
              "      --hover-bg-color: #E2EBFA;\n",
              "      --hover-fill-color: #174EA6;\n",
              "      --disabled-fill-color: #AAA;\n",
              "      --disabled-bg-color: #DDD;\n",
              "  }\n",
              "\n",
              "  [theme=dark] .colab-df-quickchart {\n",
              "      --bg-color: #3B4455;\n",
              "      --fill-color: #D2E3FC;\n",
              "      --hover-bg-color: #434B5C;\n",
              "      --hover-fill-color: #FFFFFF;\n",
              "      --disabled-bg-color: #3B4455;\n",
              "      --disabled-fill-color: #666;\n",
              "  }\n",
              "\n",
              "  .colab-df-quickchart {\n",
              "    background-color: var(--bg-color);\n",
              "    border: none;\n",
              "    border-radius: 50%;\n",
              "    cursor: pointer;\n",
              "    display: none;\n",
              "    fill: var(--fill-color);\n",
              "    height: 32px;\n",
              "    padding: 0;\n",
              "    width: 32px;\n",
              "  }\n",
              "\n",
              "  .colab-df-quickchart:hover {\n",
              "    background-color: var(--hover-bg-color);\n",
              "    box-shadow: 0 1px 2px rgba(60, 64, 67, 0.3), 0 1px 3px 1px rgba(60, 64, 67, 0.15);\n",
              "    fill: var(--button-hover-fill-color);\n",
              "  }\n",
              "\n",
              "  .colab-df-quickchart-complete:disabled,\n",
              "  .colab-df-quickchart-complete:disabled:hover {\n",
              "    background-color: var(--disabled-bg-color);\n",
              "    fill: var(--disabled-fill-color);\n",
              "    box-shadow: none;\n",
              "  }\n",
              "\n",
              "  .colab-df-spinner {\n",
              "    border: 2px solid var(--fill-color);\n",
              "    border-color: transparent;\n",
              "    border-bottom-color: var(--fill-color);\n",
              "    animation:\n",
              "      spin 1s steps(1) infinite;\n",
              "  }\n",
              "\n",
              "  @keyframes spin {\n",
              "    0% {\n",
              "      border-color: transparent;\n",
              "      border-bottom-color: var(--fill-color);\n",
              "      border-left-color: var(--fill-color);\n",
              "    }\n",
              "    20% {\n",
              "      border-color: transparent;\n",
              "      border-left-color: var(--fill-color);\n",
              "      border-top-color: var(--fill-color);\n",
              "    }\n",
              "    30% {\n",
              "      border-color: transparent;\n",
              "      border-left-color: var(--fill-color);\n",
              "      border-top-color: var(--fill-color);\n",
              "      border-right-color: var(--fill-color);\n",
              "    }\n",
              "    40% {\n",
              "      border-color: transparent;\n",
              "      border-right-color: var(--fill-color);\n",
              "      border-top-color: var(--fill-color);\n",
              "    }\n",
              "    60% {\n",
              "      border-color: transparent;\n",
              "      border-right-color: var(--fill-color);\n",
              "    }\n",
              "    80% {\n",
              "      border-color: transparent;\n",
              "      border-right-color: var(--fill-color);\n",
              "      border-bottom-color: var(--fill-color);\n",
              "    }\n",
              "    90% {\n",
              "      border-color: transparent;\n",
              "      border-bottom-color: var(--fill-color);\n",
              "    }\n",
              "  }\n",
              "</style>\n",
              "\n",
              "      <script>\n",
              "        async function quickchart(key) {\n",
              "          const quickchartButtonEl =\n",
              "            document.querySelector('#' + key + ' button');\n",
              "          quickchartButtonEl.disabled = true;  // To prevent multiple clicks.\n",
              "          quickchartButtonEl.classList.add('colab-df-spinner');\n",
              "          try {\n",
              "            const charts = await google.colab.kernel.invokeFunction(\n",
              "                'suggestCharts', [key], {});\n",
              "          } catch (error) {\n",
              "            console.error('Error during call to suggestCharts:', error);\n",
              "          }\n",
              "          quickchartButtonEl.classList.remove('colab-df-spinner');\n",
              "          quickchartButtonEl.classList.add('colab-df-quickchart-complete');\n",
              "        }\n",
              "        (() => {\n",
              "          let quickchartButtonEl =\n",
              "            document.querySelector('#df-0ece2328-9311-4c8e-8bb1-6d6374f89cd3 button');\n",
              "          quickchartButtonEl.style.display =\n",
              "            google.colab.kernel.accessAllowed ? 'block' : 'none';\n",
              "        })();\n",
              "      </script>\n",
              "    </div>\n",
              "\n",
              "    </div>\n",
              "  </div>\n"
            ],
            "application/vnd.google.colaboratory.intrinsic+json": {
              "type": "dataframe",
              "summary": "{\n  \"name\": \"adata_ctrl\",\n  \"rows\": 5045,\n  \"fields\": [\n    {\n      \"column\": \"gene_id\",\n      \"properties\": {\n        \"dtype\": \"string\",\n        \"num_unique_values\": 5045,\n        \"samples\": [\n          \"ENSG00000092067\",\n          \"ENSG00000103196\",\n          \"ENSG00000230424\"\n        ],\n        \"semantic_type\": \"\",\n        \"description\": \"\"\n      }\n    },\n    {\n      \"column\": \"gene_name\",\n      \"properties\": {\n        \"dtype\": \"category\",\n        \"num_unique_values\": 5045,\n        \"samples\": [\n          \"CEBPE\",\n          \"CRISPLD2\",\n          \"RP1-43E13.2\"\n        ],\n        \"semantic_type\": \"\",\n        \"description\": \"\"\n      }\n    },\n    {\n      \"column\": \"id_in_vocab\",\n      \"properties\": {\n        \"dtype\": \"number\",\n        \"std\": 0,\n        \"min\": -1,\n        \"max\": 1,\n        \"num_unique_values\": 2,\n        \"samples\": [\n          -1,\n          1\n        ],\n        \"semantic_type\": \"\",\n        \"description\": \"\"\n      }\n    }\n  ]\n}"
            }
          },
          "metadata": {},
          "execution_count": 38
        }
      ],
      "source": [
        "adata_ctrl.var"
      ]
    },
    {
      "cell_type": "markdown",
      "metadata": {
        "id": "cBIbYs_oSQJX"
      },
      "source": [
        "Each of them will correspond to values in the columns of `adata_ctrl.X`:"
      ]
    },
    {
      "cell_type": "code",
      "execution_count": null,
      "metadata": {
        "id": "ksgb9BmnSQJX",
        "colab": {
          "base_uri": "https://localhost:8080/"
        },
        "outputId": "bf0322d6-b8f7-497b-d1a5-c93753e54a0e"
      },
      "outputs": [
        {
          "output_type": "execute_result",
          "data": {
            "text/plain": [
              "<Compressed Sparse Row sparse matrix of dtype 'float32'\n",
              "\twith 40918 stored elements and shape (100, 5045)>"
            ]
          },
          "metadata": {},
          "execution_count": 39
        }
      ],
      "source": [
        "adata_ctrl.X # an entry (i, j) corresponds to the value of gene j in cell i; the 5045 genes must match to the list above"
      ]
    },
    {
      "cell_type": "markdown",
      "metadata": {
        "id": "blg7NwVfSQJX"
      },
      "source": [
        "To get a prediction for all the cells in `adata_ctrl`:"
      ]
    },
    {
      "cell_type": "code",
      "execution_count": null,
      "metadata": {
        "id": "kprwxyZjSQJX"
      },
      "outputs": [],
      "source": [
        "gene_pert = 'CEBPB+ctrl'\n",
        "\n",
        "ctrl_size = None # Note that if ctrl_size = None, all ctrl samples are used; if ctrl_size != None, then ctrl_size samples will get randomly sampled.\n",
        "return_mean = False # If this is True, then the mean of the predictions will get returned\n",
        "preds = model.pred_perturb_from_ctrl(adata_ctrl, gene_pert, gene_names, device, gene_ids, pool_size = ctrl_size, return_mean = False).squeeze()"
      ]
    },
    {
      "cell_type": "code",
      "execution_count": null,
      "metadata": {
        "id": "nKWDVJDHSQJX",
        "colab": {
          "base_uri": "https://localhost:8080/"
        },
        "outputId": "216983c8-a5e7-4078-86f2-2a971f6b8596"
      },
      "outputs": [
        {
          "output_type": "execute_result",
          "data": {
            "text/plain": [
              "array([[-3.22723389e-03,  1.10855103e-02,  8.57543945e-03, ...,\n",
              "         3.84765625e+00,  1.10855103e-02,  1.10855103e-02],\n",
              "       [-3.31497192e-03,  1.08718872e-02,  8.59832764e-03, ...,\n",
              "         3.83789062e+00,  1.08718872e-02,  1.08718872e-02],\n",
              "       [-3.25202942e-03,  1.06658936e-02,  8.79669189e-03, ...,\n",
              "         3.84179688e+00,  1.06658936e-02,  1.06658936e-02],\n",
              "       ...,\n",
              "       [-3.20434570e-03,  1.16500854e-02,  8.68988037e-03, ...,\n",
              "         3.84375000e+00,  1.16500854e-02,  1.16500854e-02],\n",
              "       [-3.31497192e-03,  1.07421875e-02,  8.33892822e-03, ...,\n",
              "         3.83203125e+00,  1.07421875e-02,  1.07421875e-02],\n",
              "       [-3.37600708e-03,  1.10092163e-02,  8.62121582e-03, ...,\n",
              "         3.86328125e+00,  1.10092163e-02,  1.10092163e-02]], dtype=float32)"
            ]
          },
          "metadata": {},
          "execution_count": 41
        }
      ],
      "source": [
        "preds"
      ]
    },
    {
      "cell_type": "code",
      "execution_count": null,
      "metadata": {
        "id": "nqcM4M6mSQJX",
        "colab": {
          "base_uri": "https://localhost:8080/"
        },
        "outputId": "96e8cb0a-68df-4f5b-e460-e76957234100"
      },
      "outputs": [
        {
          "output_type": "execute_result",
          "data": {
            "text/plain": [
              "(100, 5045)"
            ]
          },
          "metadata": {},
          "execution_count": 42
        }
      ],
      "source": [
        "preds.shape"
      ]
    },
    {
      "cell_type": "markdown",
      "metadata": {
        "id": "Dsdl57NPSQJX"
      },
      "source": [
        "We can then assign the predictions to the anndata file:"
      ]
    },
    {
      "cell_type": "code",
      "execution_count": null,
      "metadata": {
        "id": "pXm1LXNtSQJY"
      },
      "outputs": [],
      "source": [
        "adata_ctrl.layers[f'{model_name}_predictions'] = preds"
      ]
    },
    {
      "cell_type": "code",
      "execution_count": null,
      "metadata": {
        "id": "uJHSiFaMSQJY",
        "colab": {
          "base_uri": "https://localhost:8080/"
        },
        "outputId": "2260ac13-a1bf-4c12-d5a9-f09e98f01c2f"
      },
      "outputs": [
        {
          "output_type": "execute_result",
          "data": {
            "text/plain": [
              "AnnData object with n_obs × n_vars = 100 × 5045\n",
              "    obs: 'condition', 'cell_type', 'dose_val', 'control', 'condition_name'\n",
              "    var: 'gene_name', 'id_in_vocab'\n",
              "    uns: 'non_dropout_gene_idx', 'non_zeros_gene_idx', 'rank_genes_groups_cov_all', 'top_non_dropout_de_20', 'top_non_zero_de_20'\n",
              "    layers: 'counts', 'scgenept_go_c_gpt_concat_predictions'"
            ]
          },
          "metadata": {},
          "execution_count": 44
        }
      ],
      "source": [
        "adata_ctrl"
      ]
    },
    {
      "cell_type": "markdown",
      "metadata": {
        "id": "SOOFjrn4SQJY"
      },
      "source": [
        "To get a mean prediction over ctrl_size control samples from `adata_ctrl`, we can run:"
      ]
    },
    {
      "cell_type": "code",
      "execution_count": null,
      "metadata": {
        "id": "2hfCfuHJSQJY"
      },
      "outputs": [],
      "source": [
        "ctrl_size = 300\n",
        "preds_mean = model.pred_perturb_from_ctrl(adata_ctrl, gene_pert, gene_names, device, gene_ids, pool_size = ctrl_size, return_mean = True).squeeze()"
      ]
    },
    {
      "cell_type": "code",
      "execution_count": null,
      "metadata": {
        "id": "dvUZWD-XSQJY",
        "colab": {
          "base_uri": "https://localhost:8080/"
        },
        "outputId": "a33c0ff4-87d2-492b-c070-b147a9ef1535"
      },
      "outputs": [
        {
          "output_type": "execute_result",
          "data": {
            "text/plain": [
              "array([-3.2994144e-03,  1.1802012e-02,  8.5535431e-03, ...,\n",
              "        3.8419857e+00,  1.0885798e-02,  1.0885798e-02], dtype=float32)"
            ]
          },
          "metadata": {},
          "execution_count": 46
        }
      ],
      "source": [
        "preds_mean"
      ]
    },
    {
      "cell_type": "code",
      "execution_count": null,
      "metadata": {
        "id": "xtExdeNRSQJY",
        "colab": {
          "base_uri": "https://localhost:8080/"
        },
        "outputId": "f6cfa1d1-8d02-469a-f6fb-e4e1015d9581"
      },
      "outputs": [
        {
          "output_type": "execute_result",
          "data": {
            "text/plain": [
              "(5045,)"
            ]
          },
          "metadata": {},
          "execution_count": 47
        }
      ],
      "source": [
        "preds_mean.shape"
      ]
    },
    {
      "cell_type": "markdown",
      "metadata": {
        "id": "JWfXZ535yKi3"
      },
      "source": [
        "<a id='contact'></a>\n",
        "## Contact & Feedback\n",
        "\n",
        "Ana-Maria Istrate, aistrate@chanzuckerberg.com"
      ]
    },
    {
      "cell_type": "markdown",
      "metadata": {
        "id": "R3jdy9WHyO8Z"
      },
      "source": [
        "## References\n",
        "\n",
        "1. Norman, Thomas M., et al. \"Exploring genetic interaction manifolds constructed from rich single-cell phenotypes.\" Science 365.6455 (2019): 786-793.\n",
        "2. Cui, Haotian, et al. \"scGPT: toward building a foundation model for single-cell multi-omics using generative AI.\" Nature Methods (2024): 1-11.\n",
        "3. Chen, Yiqun, and James Zou. \"GenePT: a simple but effective foundation model for genes and cells built from ChatGPT.\" bioRxiv (2024): 2023-10.\n",
        "4. Roohani, Yusuf, Kexin Huang, and Jure Leskovec. \"Predicting transcriptional outcomes of novel multigene perturbations with GEARS.\" Nature Biotechnology 42.6 (2024): 927-935."
      ]
    }
  ],
  "metadata": {
    "accelerator": "GPU",
    "colab": {
      "gpuType": "T4",
      "provenance": []
    },
    "kernelspec": {
      "display_name": "Python 3",
      "name": "python3"
    },
    "language_info": {
      "name": "python"
    }
  },
  "nbformat": 4,
  "nbformat_minor": 0
}